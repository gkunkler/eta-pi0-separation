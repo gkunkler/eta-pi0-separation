{
 "cells": [
  {
   "cell_type": "code",
   "execution_count": 3,
   "id": "be08d3c1",
   "metadata": {},
   "outputs": [],
   "source": [
    "import h5py\n",
    "import matplotlib.pyplot as plt\n",
    "import numpy as np\n",
    "from tqdm import tqdm"
   ]
  },
  {
   "cell_type": "code",
   "execution_count": 1,
   "id": "6ed966fd",
   "metadata": {},
   "outputs": [],
   "source": [
    "# file_path = \"../eta-pi-data/merged_Eta.h5\"\n",
    "# file_path = \"../eta-pi-data/merged_NCPi0.h5\"\n",
    "file_path = '../eta-pi-data/eta-pi0.h5'"
   ]
  },
  {
   "cell_type": "code",
   "execution_count": null,
   "id": "937a0f9b",
   "metadata": {},
   "outputs": [
    {
     "name": "stdout",
     "output_type": "stream",
     "text": [
      "Keys (datasets/groups) in HDF5 file: ['edep_table', 'event_table', 'hit_table', 'opflash_table', 'opflashsumpe_table', 'ophit_table', 'particle_table', 'spacepoint_table']\n",
      "Keys (datasets/groups) in HDF5 file: ['event_id', 'hit_id', 'metadata', 'position', 'spacepoint_id']\n",
      "54259683\n"
     ]
    },
    {
     "name": "stderr",
     "output_type": "stream",
     "text": [
      "100%|██████████| 54259682/54259682 [00:41<00:00, 1299976.11it/s]\n"
     ]
    }
   ],
   "source": [
    "with h5py.File(file_path, 'r') as f:\n",
    "    print(\"Keys (datasets/groups) in HDF5 file:\", list(f.keys()))\n",
    "    \n",
    "    # If your data is nested, explore further\n",
    "    # for key in f.keys():\n",
    "    #     if isinstance(f[key], h5py.Group):\n",
    "    #         print(f\"  Subkeys in {key}:\", list(f[key].keys()))\n",
    "\n",
    "    # Example: print shape of a known dataset (replace 'points_data' with your actual key)\n",
    "    if 'spacepoints_table' in f:\n",
    "        print(\"Keys (datasets/groups) in HDF5 file:\", list(f['spacepoint_table'].keys()))\n",
    "        print(f\"Shape of 'points_data': {f['points_data'].shape}\")\n",
    "        print(f\"Type of 'points_data': {f['points_data'].dtype}\")\n",
    "    # Identify how labels/classes are stored\n",
    "    if 'labels' in f:\n",
    "        print(f\"Shape of 'labels': {f['labels'].shape}\")\n",
    "\n",
    "    sp = f['spacepoint_table']\n",
    "\n",
    "    # print(f['spacepoint_table/event_id'][:50])\n",
    "    # print(f['spacepoint_table/event_id.seq_cnt'][:500])\n",
    "    # print(f['spacepoint_table/spacepoint_id'][:50])\n",
    "\n",
    "    current_index = [0, 0, 0]\n",
    "    current_num_points = 0\n",
    "    num_points = []\n",
    "    print(len(sp['event_id']))\n",
    "    for a in tqdm(sp['event_id'][:-1]):\n",
    "        if a[0] == current_index[0] and a[1] == current_index[1] and a[2] == current_index[2]:\n",
    "            current_num_points += 1\n",
    "        else:\n",
    "            # print(current_num_points)\n",
    "            num_points.append(current_num_points)\n",
    "            current_num_points = 1\n",
    "            current_index = a\n",
    "        # print(current_num_points)\n",
    "\n",
    "# num_points = num_points[1:-1] # Remove first zero\n",
    "\n"
   ]
  },
  {
   "cell_type": "code",
   "execution_count": 13,
   "id": "acdcbafc",
   "metadata": {},
   "outputs": [
    {
     "name": "stdout",
     "output_type": "stream",
     "text": [
      "Keys (datasets/groups) in HDF5 file: ['Eta', 'NCPi0']\n"
     ]
    },
    {
     "data": {
      "image/png": "[encoded data removed]",
      "text/plain": [
       "<Figure size 640x480 with 1 Axes>"
      ]
     },
     "metadata": {},
     "output_type": "display_data"
    }
   ],
   "source": [
    "file_path = '../eta-pi-data/eta-pi0.h5'\n",
    "\n",
    "with h5py.File(file_path, 'r') as f:\n",
    "    print(\"Keys (datasets/groups) in HDF5 file:\", list(f.keys()))\n",
    "\n",
    "    fig, ax= plt.subplots()\n",
    "    bins = np.linspace(0,1024,50)\n",
    "    bin_centers = (bins[:-1] + bins[1:])/2\n",
    "    for group in f.keys():\n",
    "\n",
    "        grp = f[group]\n",
    "\n",
    "        num_points = grp['sequence_info_filtered'][:,2]\n",
    "\n",
    "        hist = np.histogram(num_points, bins)[0]\n",
    "        ax.stairs(hist, bins, label=group)\n",
    "\n",
    "ax.set_xlabel(f'Number of Space Points in Event (After Filtering)')\n",
    "ax.set_ylabel(f'Counts')\n",
    "ax.set_xlim(min(bins), max(bins))\n",
    "ax.legend()\n",
    "plt.show()"
   ]
  },
  {
   "cell_type": "code",
   "execution_count": null,
   "id": "d0a7bde1",
   "metadata": {},
   "outputs": [
    {
     "name": "stdout",
     "output_type": "stream",
     "text": [
      "Keys (datasets/groups) in HDF5 file: ['edep_table', 'event_table', 'hit_table', 'opflash_table', 'opflashsumpe_table', 'ophit_table', 'particle_table', 'spacepoint_table']\n",
      "Keys (datasets/groups) in HDF5 file: ['event_id', 'event_id.seq_cnt', 'hit_id', 'metadata', 'position', 'sequence_info', 'spacepoint_id']\n",
      "<KeysViewHDF5 ['energy', 'energy_fraction', 'event_id', 'event_id.seq_cnt', 'g4_id', 'hit_id']>\n",
      "<KeysViewHDF5 ['event_id', 'event_id.seq_cnt', 'hit_id', 'integral', 'local_plane', 'local_time', 'local_wire', 'rms', 'sequence_info', 'tpc']>\n",
      "<KeysViewHDF5 ['category', 'end_position', 'end_position_corr', 'end_process', 'end_wire_pos', 'end_wire_time', 'event_id', 'event_id.seq_cnt', 'g4_id', 'g4_pdg', 'instance', 'momentum', 'parent_id', 'start_position', 'start_position_corr', 'start_process', 'start_wire_pos', 'start_wire_time']>\n",
      "[[  0]\n",
      " [  1]\n",
      " [  2]\n",
      " ...\n",
      " [912]\n",
      " [913]\n",
      " [914]]\n",
      "25427\n",
      "25288\n",
      "[[257 357 848]\n",
      " [259 354 848]\n",
      " [253 362 849]\n",
      " ...\n",
      " [ 53 593  -1]\n",
      " [ 53 595  -1]\n",
      " [ 52 597  -1]]\n",
      "[[ 1]\n",
      " [ 2]\n",
      " [ 3]\n",
      " [ 5]\n",
      " [ 7]\n",
      " [ 8]\n",
      " [ 9]\n",
      " [10]\n",
      " [11]\n",
      " [12]]\n"
     ]
    },
    {
     "name": "stderr",
     "output_type": "stream",
     "text": [
      "100%|██████████| 25427/25427 [00:01<00:00, 17524.04it/s]\n"
     ]
    }
   ],
   "source": [
    "with h5py.File(file_path, 'r') as f:\n",
    "    print(\"Keys (datasets/groups) in HDF5 file:\", list(f.keys()))\n",
    "    print(\"Keys (datasets/groups) in HDF5 file:\", list(f['spacepoint_table'].keys()))\n",
    "\n",
    "    print(f['edep_table'].keys())\n",
    "    print(f['hit_table'].keys())\n",
    "    print(f['particle_table'].keys())\n",
    "\n",
    "\n",
    "    # # print(f['edep_table']['energy_fraction'][:10])\n",
    "    # print(f['hit_table']['integral'][:10])\n",
    "    print(f['hit_table']['hit_id'][:10000])\n",
    "    # print(f['hit_table']['local_plane'][:10])\n",
    "\n",
    "    # print(np.count_nonzero(f['spacepoint_table/event_id.seq_cnt'][:20, 0] == f['hit_table/event_id.seq_cnt'][:20, 0]))\n",
    "    print(len(f['hit_table/event_id.seq_cnt']))\n",
    "    print(len(f['spacepoint_table/event_id.seq_cnt']))\n",
    "    print(f['spacepoint_table']['hit_id'][:1500])\n",
    "    print(f['spacepoint_table']['spacepoint_id'][:10])\n",
    "\n",
    "    f_sub = f['spacepoint_table/event_id.seq_cnt'][:]\n",
    "    h_sub = f['hit_table/event_id.seq_cnt'][:]\n",
    "    h_all = f['hit_table/hit_id'][:]\n",
    "\n",
    "    # The following tests whether the hit_ids for a single event are just counting up in order\n",
    "    test = True\n",
    "    starting_index = 0\n",
    "    for event_index, num_points in tqdm(h_sub):\n",
    "\n",
    "        if not np.all(h_all[starting_index:starting_index+num_points].transpose() == range(num_points)):\n",
    "            print('failed')\n",
    "\n",
    "        starting_index+=num_points\n",
    "\n",
    "    # print(f['spacepoint_table/event_id'][f['spacepoint_table/metadata'][:, 0]])\n",
    "    # print(f['spacepoint_table/hit_id'][f['spacepoint_table/metadata'][:, 0]])"
   ]
  },
  {
   "cell_type": "code",
   "execution_count": 5,
   "id": "29762899",
   "metadata": {},
   "outputs": [
    {
     "name": "stdout",
     "output_type": "stream",
     "text": [
      "<KeysViewHDF5 ['Eta', 'NCPi0']>\n",
      "<KeysViewHDF5 ['point_info_centered', 'point_info_filtered', 'sequence_info_all', 'sequence_info_filtered']>\n"
     ]
    }
   ],
   "source": [
    "with h5py.File(file_path, 'r') as f:\n",
    "\n",
    "    print(f.keys())\n",
    "\n",
    "    print(f['Eta'].keys())"
   ]
  }
 ],
 "metadata": {
  "kernelspec": {
   "display_name": "ML",
   "language": "python",
   "name": "python3"
  },
  "language_info": {
   "codemirror_mode": {
    "name": "ipython",
    "version": 3
   },
   "file_extension": ".py",
   "mimetype": "text/x-python",
   "name": "python",
   "nbconvert_exporter": "python",
   "pygments_lexer": "ipython3",
   "version": "3.11.13"
  }
 },
 "nbformat": 4,
 "nbformat_minor": 5
}
