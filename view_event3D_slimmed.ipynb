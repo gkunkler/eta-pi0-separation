{
 "cells": [
  {
   "cell_type": "markdown",
   "id": "bbf4d349",
   "metadata": {},
   "source": [
    "This code is for looking for a single event's spacepoints and plotting them"
   ]
  },
  {
   "cell_type": "code",
   "execution_count": 1,
   "id": "d365716b",
   "metadata": {},
   "outputs": [],
   "source": [
    "import pandas as pd\n",
    "import h5py\n",
    "import numpy as np\n",
    "import matplotlib.pyplot as plt\n",
    "import plotly.graph_objects as go\n",
    "import plotly.express as px\n",
    "import plotly.io as pio"
   ]
  },
  {
   "cell_type": "code",
   "execution_count": 4,
   "id": "3e49406a",
   "metadata": {},
   "outputs": [],
   "source": [
    "def plot(file_name, group_label, index):\n",
    "\n",
    "    with h5py.File(file_name, 'r') as f:\n",
    "\n",
    "        sp = f[group_label]\n",
    "\n",
    "        _, starting_index, num_points, run, subrun, event, description = sp['sequence_info_filtered'][index]\n",
    "        points = sp['point_info_filtered'][starting_index:starting_index+num_points]\n",
    "\n",
    "    print(f'{starting_index}, {num_points}')\n",
    "    print(f'{run}, {subrun}, {event}')\n",
    "    print(f'{points[0]}')\n",
    "    print(description)\n",
    "\n",
    "    x = points[:, 0]\n",
    "    y = points[:, 1]\n",
    "    z = points[:, 2]\n",
    "    integral = points[:,3]\n",
    "\n",
    "    # fig = plt.figure(dpi=200)\n",
    "    # ax = fig.add_subplot(projection='3d')\n",
    "    # ax.scatter(x,y,z,c=integral, cmap='viridis', alpha=1, marker='.')\n",
    "    # ax.set_xlabel('x [cm]')\n",
    "    # ax.set_ylabel('y [cm]')\n",
    "    # ax.set_zlabel('z [cm]')\n",
    "    # ax.set_aspect('equal')\n",
    "    # ax.view_init(elev=15, azim=160)\n",
    "    # fig.tight_layout()\n",
    "\n",
    "    df = pd.DataFrame({'x':x, 'y':y, 'z':z, 'q':integral})\n",
    "   \n",
    "\n",
    "    plotly_fig = px.scatter_3d(df, x='x', y='y', z='z', size='q', color='q')\n",
    "    plotly_fig.update_layout(width=2000,height=1800,margin=dict(l=0, r=0, b=0, t=0),\n",
    "                             scene_camera=dict(\n",
    "        eye=dict(x=1.5, y=-1.7, z=1.2)  # Position of the camera\n",
    "    ))\n",
    "    plotly_fig.update_traces(marker=dict(line=dict(width=0)))\n",
    "    plotly_fig.show()\n",
    "    \n",
    "\n",
    "\n",
    "def plot_hist_volume(file_name, group, index):\n",
    "\n",
    "    with h5py.File(file_name, 'r') as f:\n",
    "\n",
    "        sp = f['spacepoint_table']\n",
    "\n",
    "        starting_index, num_points = sp['metadata'][index]\n",
    "        run, subrun, event = sp['event_id'][starting_index]\n",
    "        points = sp['position'][starting_index:starting_index+num_points]\n",
    "\n",
    "    print(f'{starting_index}, {num_points}')\n",
    "    print(f'{run}, {subrun}, {event}')\n",
    "    print(f'{points[0]}')\n",
    "\n",
    "    print(points.transpose())\n",
    "\n",
    "    x = points[:, 0]\n",
    "    y = points[:, 1]\n",
    "    z = points[:, 2]\n",
    "\n",
    "    buffer = 10\n",
    "    num_bins = 20\n",
    "    x_bounds = np.linspace(min(x)-buffer, max(x)+buffer, num_bins)\n",
    "    y_bounds = np.linspace(min(y)-buffer, max(y)+buffer, num_bins)\n",
    "    z_bounds = np.linspace(min(z)-buffer, max(z)+buffer, num_bins)\n",
    "\n",
    "    hist3d = np.histogramdd(points, bins=(x_bounds, y_bounds, z_bounds))[0]\n",
    "\n",
    "    print(np.shape(hist3d))\n",
    "\n",
    "    print(np.max(hist3d))\n",
    "\n",
    "    X, Y, Z = np.meshgrid(np.diff(x_bounds), np.diff(y_bounds), np.diff(z_bounds))\n",
    "\n",
    "    print(np.shape(X))\n",
    "\n",
    "    fig = go.Figure(data=go.Volume(\n",
    "        x=X.flatten(),\n",
    "        y=Y.flatten(),\n",
    "        z=Z.flatten(),\n",
    "        value=hist3d.flatten(),\n",
    "        isomin=0.1,\n",
    "        isomax=0.8,\n",
    "        opacity=0.1, # needs to be small to see through all surfaces\n",
    "        surface_count=3, # needs to be a large number for good volume rendering\n",
    "        ))\n",
    "    fig.show()\n"
   ]
  },
  {
   "cell_type": "code",
   "execution_count": 5,
   "id": "624c55fb",
   "metadata": {},
   "outputs": [
    {
     "name": "stdout",
     "output_type": "stream",
     "text": [
      "783, 583\n",
      "7022, 223, 11156\n",
      "[ 38.682888    4.0876913 118.7       221.24268  ]\n",
      "-1\n"
     ]
    },
    {
     "data": {
      "application/vnd.plotly.v1+json": {
       "config": {
        "plotlyServerURL": "https://plot.ly"
       },
       "data": [
        {
         "hovertemplate": "x=%{x}<br>y=%{y}<br>z=%{z}<br>q=%{marker.color}<extra></extra>",
         "legendgroup": "",
         "marker": {
          "color": {
           "bdata": "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",
           "dtype": "f4"
          },
          "coloraxis": "coloraxis",
          "line": {
           "width": 0
          },
          "size": {
           "bdata": "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",
           "dtype": "f4"
          },
          "sizemode": "area",
          "sizeref": 1.6007460021972657,
          "symbol": "circle"
         },
         "mode": "markers",
         "name": "",
         "scene": "scene",
         "showlegend": false,
         "type": "scatter3d",
         "x": {
          "bdata": "R7saQu5LG0IstRtCPfQbQq8/HULcmhVC9sElQlu7FUJrFCZCqQwzQgPbFUIZ7yJCZ1UmQimtKUKsMi1CZ24xQrEcNELMwhVCHYAjQtgeJkLkkihChzQvQtKGFkIrkiNCqSomQv+6KUJ3YRZCozskQu2TKUJU0xVCAPApQiZSFkLgCChCd5UqQq5mF0LLbypCTKosQkzfFkKYAClCLPQsQl9BQEJG6RZCR54nQuwbLkIhfBdC0k8uQuphF0IY2C5CXxwXQlfKF0InuC9CEzJAQlIxF0KHDRhCPPQwQsAgF0KEKhhCYWwxQuKOF0KCaBlCAFEyQu13F0JYFhpC5XwyQqHPF0JBQhpCGmwyQm5APkIt1BdCLB8zQrhkF0KNnBpCbG8zQvMhPkKaShdCNtcaQtzJM0LL+z1CU2kXQriEG0IoCDVCFYY+QstmF0Ji1RtCf/kyQtxSNkLIJz5C9TcXQnb9G0LmkzNCavs1QlYcP0I4+RZCPyAcQmUfNUKdUD5CxMUWQio6HEIvWDNCClk1QnDyN0IsbT5Cgp8WQq1FHEJv0DJCCDI4Qjx4P0ItihZCtlMcQlfUMUKqtzlCcK5AQrlvFkJhZRxCVGszQvYQNkIIEzpCNFU8QrxHQUIlWBZCmGocQq1yM0KGhzZC/xc8QmEDQkLnVhZCcmgcQsy/M0LnlTZCXjI8QtVRQkJ3SBZCA3IcQhcjI0JNIzxC/0FDQpNCFkLFuhxCJDIjQhe2PEK9fUNCNzEWQoGvHEJRNT1CDoxDQmQcFkIFVhxC7GU+Qg2/Q0LbMxZCvV8cQnBoN0Lnnz5Cr/FCQgJQFkLlZhxCxQ8/QrPuQUIcLxZCSbIcQimJQEKWNhZCPTIeQhonQUJ+OxZCZdQcQtoyH0IfKkJCdDEWQmHkHEJTJEJCT2wWQkiEHUJgYRZCs7AdQhdbREJzBRZC7fAdQg4bRULF5R1C9DRFQhalHUIX90VCetEdQjRRQ0KQy0ZCmrMdQqJ2Q0JnZ0dCzXIdQklgSEJ9Jx1CvuZIQvcfXEJkhxZCRgscQic+SUIlaxZCfpYaQvXnHUKTmklCOKkdQgLHSUKfXB1CkkZLQkp98EGTQSFC+H5LQsg8IkIp7UtCkQNMQlE+P0Lyw0xCPxhNQiBVUEKWZk5CM1dPQjzbT0ItS1BCpM9RQmwhR0KxJlBC+wRSQlIgR0I3lVBCDLJQQnLGUUIIg1FCQeBRQmgXU0L4U1NCYP1VQqBNU0KIdVZCoDtSQuspVEKbu1dCgH1SQummV0I8YlRCsjRYQmJTVkJZgFlCJTA0QlTfWUL9ZjVC+EFaQup8NUKE6lpCrGVbQrX7WkIqlltCv4JcQnw2XEIhRlhCvZJVQnM6WEK5vFVCH0ZYQlPSW0JKI1dC5uBaQrmvV0Kw8ldC3vZXQssiWUK3KlhCqTxaQpvxWEISDVtCjEJZQqv8WkIaDVlCMIlbQtEyW0Iz1lpCu15YQryyWkK5nlhCGGxtQrVSbkLwH25C36BuQit6bkJHDG9CgktvQka2cELLSnFCArp1Qi5OLUJMJHZCSWYtQmxVeEKlfi1C99h4Qr2kLUKXn3pCk2oLQgfvLUIsuntCSjIlQrUALkLvq31C42MlQmMQLkK34H1CeMIlQjpHLkIA731ClfUlQgCLLkL/7H1CqVsmQrH+LUJ/hn1CjAYoQtFGLkJ4aTBCKct7QtvsLUJMpzBCjX16QuR6LkJg/DBCOU56Qg0WLkL8HTFC7TB5QthzLkLMZzFCEiguQsbkMUI4iS5CwS4yQqBPLkKCZjJC3acuQu6rMkIZdi5C7SgzQo6xKEKAwy5Cd/8zQlS8KEIC8S5CsEo0QsbQKEKCxC5C1GI0QnuUYEIJ8ihCirMuQq6rNEJ/9llCZBFgQvcYKUJ8py5Ccgs1Qn0uWkLpuV9CTXsoQmOSLkKuKzVCJu4nQhcoKULogS5CyGw1QprgJ0IV1ilC3WUuQnqmNkK8SXlCjQolQkMnKUIwRi5CCt42QgJYeUJKTiRCRbAqQncgLkKSEzdCRT55QiYQI0KdAStCadstQjVRN0IIWnlClKwiQrccK0JAoi1C3203QrKGeUIu3X9ChrsgQgs+K0IUWS1Cu6A3QvN+eUKAy39CX1AfQijOLEKIvjdCdkx+QhcmgEJMFB5CSyQtQvCXOEJXsH5CWUKAQjcKHEJX7ixCc6g4Qg01f0K/EBxCLmItQpfMOEINv39CAUEbQnPrK0KwxS1CDLc4QkcugEL5RxtCUNQrQpGrLkKDnDhCVRmAQsyDK0JBwS5CC3s4QvIEgEK5RStC7dsuQtiFOEKr+H9CSquAQuQtK0IwqC9C/mszQmixOEI3Z39CrqmAQhehKkIYrTJCSrU4Qlk6KkKLYTVClBw5QkzxKUL3GzlCk6spQk8fOUINeSlCaFc5QkFRKUICjzlCKkUpQrqKOUJn7ChCBKg5QkXsKEJAjjlCFo4oQgfMOUKeeihCyGM6QrhJKEIpKDpCbT8oQu1fOkJ1ayhCfdY5QnOnKEKsHjpCzPIoQvTIOUL5ailCR7o5QtbEKUJNnjlCkh4qQh/aOUIjbzxCVF1BQsxlKkKobjxCFudAQtPSKkKKqj1Cqp9AQrl3K0LMbz9Cz9ErQmFZK0KizCpCujEqQlbefEKKfCJCzFkqQpbufELl1n5CUqkiQrC8KEJ9An1CJd4kQiSjJ0KlHDlCefE4QqUxOUJgdDlCh105QjiIOUJNpERCZ5Q5QiujREJAfTpCWCE8QoxTPEIoZjxC6L0zQt+vM0KArzNC4/AyQi9SMkIHoRdCvd4XQhjRGUIQAB1C+myIQrQjHUIOkYhCtxeVQvQBiEKn5oVCET9UQoisU0JJGj5CYR0+QinWm0KX5JtCjDArQrNCK0L81z5C+TM/QowqXUKRYUBCZKtAQmVVQUKKYEVC5ApGQrjpL0LxSDFC8IBsQqW6rEIofGxCcgOtQnxarUIVH61Cimu9QnGXvUL3CL9CD729QpUlv0Ihpr5CiNS+QvP+vkJIGL9Cloe/QsWMv0IdH79CgzzBQniGwULuysFCYC3CQvljwkIGksJC9MnCQpaLw0Lt/sNC1R7EQsPbxEJXuMVCGpjFQg==",
          "dtype": "f4"
         },
         "y": {
          "bdata": "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",
          "dtype": "f4"
         },
         "z": {
          "bdata": "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",
          "dtype": "f4"
         }
        }
       ],
       "layout": {
        "coloraxis": {
         "colorbar": {
          "title": {
           "text": "q"
          }
         },
         "colorscale": [
          [
           0,
           "#0d0887"
          ],
          [
           0.1111111111111111,
           "#46039f"
          ],
          [
           0.2222222222222222,
           "#7201a8"
          ],
          [
           0.3333333333333333,
           "#9c179e"
          ],
          [
           0.4444444444444444,
           "#bd3786"
          ],
          [
           0.5555555555555556,
           "#d8576b"
          ],
          [
           0.6666666666666666,
           "#ed7953"
          ],
          [
           0.7777777777777778,
           "#fb9f3a"
          ],
          [
           0.8888888888888888,
           "#fdca26"
          ],
          [
           1,
           "#f0f921"
          ]
         ]
        },
        "height": 1800,
        "legend": {
         "itemsizing": "constant",
         "tracegroupgap": 0
        },
        "margin": {
         "b": 0,
         "l": 0,
         "r": 0,
         "t": 0
        },
        "scene": {
         "camera": {
          "eye": {
           "x": 1.5,
           "y": -1.7,
           "z": 1.2
          }
         },
         "domain": {
          "x": [
           0,
           1
          ],
          "y": [
           0,
           1
          ]
         },
         "xaxis": {
          "title": {
           "text": "x"
          }
         },
         "yaxis": {
          "title": {
           "text": "y"
          }
         },
         "zaxis": {
          "title": {
           "text": "z"
          }
         }
        },
        "template": {
         "data": {
          "bar": [
           {
            "error_x": {
             "color": "#2a3f5f"
            },
            "error_y": {
             "color": "#2a3f5f"
            },
            "marker": {
             "line": {
              "color": "#E5ECF6",
              "width": 0.5
             },
             "pattern": {
              "fillmode": "overlay",
              "size": 10,
              "solidity": 0.2
             }
            },
            "type": "bar"
           }
          ],
          "barpolar": [
           {
            "marker": {
             "line": {
              "color": "#E5ECF6",
              "width": 0.5
             },
             "pattern": {
              "fillmode": "overlay",
              "size": 10,
              "solidity": 0.2
             }
            },
            "type": "barpolar"
           }
          ],
          "carpet": [
           {
            "aaxis": {
             "endlinecolor": "#2a3f5f",
             "gridcolor": "white",
             "linecolor": "white",
             "minorgridcolor": "white",
             "startlinecolor": "#2a3f5f"
            },
            "baxis": {
             "endlinecolor": "#2a3f5f",
             "gridcolor": "white",
             "linecolor": "white",
             "minorgridcolor": "white",
             "startlinecolor": "#2a3f5f"
            },
            "type": "carpet"
           }
          ],
          "choropleth": [
           {
            "colorbar": {
             "outlinewidth": 0,
             "ticks": ""
            },
            "type": "choropleth"
           }
          ],
          "contour": [
           {
            "colorbar": {
             "outlinewidth": 0,
             "ticks": ""
            },
            "colorscale": [
             [
              0,
              "#0d0887"
             ],
             [
              0.1111111111111111,
              "#46039f"
             ],
             [
              0.2222222222222222,
              "#7201a8"
             ],
             [
              0.3333333333333333,
              "#9c179e"
             ],
             [
              0.4444444444444444,
              "#bd3786"
             ],
             [
              0.5555555555555556,
              "#d8576b"
             ],
             [
              0.6666666666666666,
              "#ed7953"
             ],
             [
              0.7777777777777778,
              "#fb9f3a"
             ],
             [
              0.8888888888888888,
              "#fdca26"
             ],
             [
              1,
              "#f0f921"
             ]
            ],
            "type": "contour"
           }
          ],
          "contourcarpet": [
           {
            "colorbar": {
             "outlinewidth": 0,
             "ticks": ""
            },
            "type": "contourcarpet"
           }
          ],
          "heatmap": [
           {
            "colorbar": {
             "outlinewidth": 0,
             "ticks": ""
            },
            "colorscale": [
             [
              0,
              "#0d0887"
             ],
             [
              0.1111111111111111,
              "#46039f"
             ],
             [
              0.2222222222222222,
              "#7201a8"
             ],
             [
              0.3333333333333333,
              "#9c179e"
             ],
             [
              0.4444444444444444,
              "#bd3786"
             ],
             [
              0.5555555555555556,
              "#d8576b"
             ],
             [
              0.6666666666666666,
              "#ed7953"
             ],
             [
              0.7777777777777778,
              "#fb9f3a"
             ],
             [
              0.8888888888888888,
              "#fdca26"
             ],
             [
              1,
              "#f0f921"
             ]
            ],
            "type": "heatmap"
           }
          ],
          "histogram": [
           {
            "marker": {
             "pattern": {
              "fillmode": "overlay",
              "size": 10,
              "solidity": 0.2
             }
            },
            "type": "histogram"
           }
          ],
          "histogram2d": [
           {
            "colorbar": {
             "outlinewidth": 0,
             "ticks": ""
            },
            "colorscale": [
             [
              0,
              "#0d0887"
             ],
             [
              0.1111111111111111,
              "#46039f"
             ],
             [
              0.2222222222222222,
              "#7201a8"
             ],
             [
              0.3333333333333333,
              "#9c179e"
             ],
             [
              0.4444444444444444,
              "#bd3786"
             ],
             [
              0.5555555555555556,
              "#d8576b"
             ],
             [
              0.6666666666666666,
              "#ed7953"
             ],
             [
              0.7777777777777778,
              "#fb9f3a"
             ],
             [
              0.8888888888888888,
              "#fdca26"
             ],
             [
              1,
              "#f0f921"
             ]
            ],
            "type": "histogram2d"
           }
          ],
          "histogram2dcontour": [
           {
            "colorbar": {
             "outlinewidth": 0,
             "ticks": ""
            },
            "colorscale": [
             [
              0,
              "#0d0887"
             ],
             [
              0.1111111111111111,
              "#46039f"
             ],
             [
              0.2222222222222222,
              "#7201a8"
             ],
             [
              0.3333333333333333,
              "#9c179e"
             ],
             [
              0.4444444444444444,
              "#bd3786"
             ],
             [
              0.5555555555555556,
              "#d8576b"
             ],
             [
              0.6666666666666666,
              "#ed7953"
             ],
             [
              0.7777777777777778,
              "#fb9f3a"
             ],
             [
              0.8888888888888888,
              "#fdca26"
             ],
             [
              1,
              "#f0f921"
             ]
            ],
            "type": "histogram2dcontour"
           }
          ],
          "mesh3d": [
           {
            "colorbar": {
             "outlinewidth": 0,
             "ticks": ""
            },
            "type": "mesh3d"
           }
          ],
          "parcoords": [
           {
            "line": {
             "colorbar": {
              "outlinewidth": 0,
              "ticks": ""
             }
            },
            "type": "parcoords"
           }
          ],
          "pie": [
           {
            "automargin": true,
            "type": "pie"
           }
          ],
          "scatter": [
           {
            "fillpattern": {
             "fillmode": "overlay",
             "size": 10,
             "solidity": 0.2
            },
            "type": "scatter"
           }
          ],
          "scatter3d": [
           {
            "line": {
             "colorbar": {
              "outlinewidth": 0,
              "ticks": ""
             }
            },
            "marker": {
             "colorbar": {
              "outlinewidth": 0,
              "ticks": ""
             }
            },
            "type": "scatter3d"
           }
          ],
          "scattercarpet": [
           {
            "marker": {
             "colorbar": {
              "outlinewidth": 0,
              "ticks": ""
             }
            },
            "type": "scattercarpet"
           }
          ],
          "scattergeo": [
           {
            "marker": {
             "colorbar": {
              "outlinewidth": 0,
              "ticks": ""
             }
            },
            "type": "scattergeo"
           }
          ],
          "scattergl": [
           {
            "marker": {
             "colorbar": {
              "outlinewidth": 0,
              "ticks": ""
             }
            },
            "type": "scattergl"
           }
          ],
          "scattermap": [
           {
            "marker": {
             "colorbar": {
              "outlinewidth": 0,
              "ticks": ""
             }
            },
            "type": "scattermap"
           }
          ],
          "scattermapbox": [
           {
            "marker": {
             "colorbar": {
              "outlinewidth": 0,
              "ticks": ""
             }
            },
            "type": "scattermapbox"
           }
          ],
          "scatterpolar": [
           {
            "marker": {
             "colorbar": {
              "outlinewidth": 0,
              "ticks": ""
             }
            },
            "type": "scatterpolar"
           }
          ],
          "scatterpolargl": [
           {
            "marker": {
             "colorbar": {
              "outlinewidth": 0,
              "ticks": ""
             }
            },
            "type": "scatterpolargl"
           }
          ],
          "scatterternary": [
           {
            "marker": {
             "colorbar": {
              "outlinewidth": 0,
              "ticks": ""
             }
            },
            "type": "scatterternary"
           }
          ],
          "surface": [
           {
            "colorbar": {
             "outlinewidth": 0,
             "ticks": ""
            },
            "colorscale": [
             [
              0,
              "#0d0887"
             ],
             [
              0.1111111111111111,
              "#46039f"
             ],
             [
              0.2222222222222222,
              "#7201a8"
             ],
             [
              0.3333333333333333,
              "#9c179e"
             ],
             [
              0.4444444444444444,
              "#bd3786"
             ],
             [
              0.5555555555555556,
              "#d8576b"
             ],
             [
              0.6666666666666666,
              "#ed7953"
             ],
             [
              0.7777777777777778,
              "#fb9f3a"
             ],
             [
              0.8888888888888888,
              "#fdca26"
             ],
             [
              1,
              "#f0f921"
             ]
            ],
            "type": "surface"
           }
          ],
          "table": [
           {
            "cells": {
             "fill": {
              "color": "#EBF0F8"
             },
             "line": {
              "color": "white"
             }
            },
            "header": {
             "fill": {
              "color": "#C8D4E3"
             },
             "line": {
              "color": "white"
             }
            },
            "type": "table"
           }
          ]
         },
         "layout": {
          "annotationdefaults": {
           "arrowcolor": "#2a3f5f",
           "arrowhead": 0,
           "arrowwidth": 1
          },
          "autotypenumbers": "strict",
          "coloraxis": {
           "colorbar": {
            "outlinewidth": 0,
            "ticks": ""
           }
          },
          "colorscale": {
           "diverging": [
            [
             0,
             "#8e0152"
            ],
            [
             0.1,
             "#c51b7d"
            ],
            [
             0.2,
             "#de77ae"
            ],
            [
             0.3,
             "#f1b6da"
            ],
            [
             0.4,
             "#fde0ef"
            ],
            [
             0.5,
             "#f7f7f7"
            ],
            [
             0.6,
             "#e6f5d0"
            ],
            [
             0.7,
             "#b8e186"
            ],
            [
             0.8,
             "#7fbc41"
            ],
            [
             0.9,
             "#4d9221"
            ],
            [
             1,
             "#276419"
            ]
           ],
           "sequential": [
            [
             0,
             "#0d0887"
            ],
            [
             0.1111111111111111,
             "#46039f"
            ],
            [
             0.2222222222222222,
             "#7201a8"
            ],
            [
             0.3333333333333333,
             "#9c179e"
            ],
            [
             0.4444444444444444,
             "#bd3786"
            ],
            [
             0.5555555555555556,
             "#d8576b"
            ],
            [
             0.6666666666666666,
             "#ed7953"
            ],
            [
             0.7777777777777778,
             "#fb9f3a"
            ],
            [
             0.8888888888888888,
             "#fdca26"
            ],
            [
             1,
             "#f0f921"
            ]
           ],
           "sequentialminus": [
            [
             0,
             "#0d0887"
            ],
            [
             0.1111111111111111,
             "#46039f"
            ],
            [
             0.2222222222222222,
             "#7201a8"
            ],
            [
             0.3333333333333333,
             "#9c179e"
            ],
            [
             0.4444444444444444,
             "#bd3786"
            ],
            [
             0.5555555555555556,
             "#d8576b"
            ],
            [
             0.6666666666666666,
             "#ed7953"
            ],
            [
             0.7777777777777778,
             "#fb9f3a"
            ],
            [
             0.8888888888888888,
             "#fdca26"
            ],
            [
             1,
             "#f0f921"
            ]
           ]
          },
          "colorway": [
           "#636efa",
           "#EF553B",
           "#00cc96",
           "#ab63fa",
           "#FFA15A",
           "#19d3f3",
           "#FF6692",
           "#B6E880",
           "#FF97FF",
           "#FECB52"
          ],
          "font": {
           "color": "#2a3f5f"
          },
          "geo": {
           "bgcolor": "white",
           "lakecolor": "white",
           "landcolor": "#E5ECF6",
           "showlakes": true,
           "showland": true,
           "subunitcolor": "white"
          },
          "hoverlabel": {
           "align": "left"
          },
          "hovermode": "closest",
          "mapbox": {
           "style": "light"
          },
          "paper_bgcolor": "white",
          "plot_bgcolor": "#E5ECF6",
          "polar": {
           "angularaxis": {
            "gridcolor": "white",
            "linecolor": "white",
            "ticks": ""
           },
           "bgcolor": "#E5ECF6",
           "radialaxis": {
            "gridcolor": "white",
            "linecolor": "white",
            "ticks": ""
           }
          },
          "scene": {
           "xaxis": {
            "backgroundcolor": "#E5ECF6",
            "gridcolor": "white",
            "gridwidth": 2,
            "linecolor": "white",
            "showbackground": true,
            "ticks": "",
            "zerolinecolor": "white"
           },
           "yaxis": {
            "backgroundcolor": "#E5ECF6",
            "gridcolor": "white",
            "gridwidth": 2,
            "linecolor": "white",
            "showbackground": true,
            "ticks": "",
            "zerolinecolor": "white"
           },
           "zaxis": {
            "backgroundcolor": "#E5ECF6",
            "gridcolor": "white",
            "gridwidth": 2,
            "linecolor": "white",
            "showbackground": true,
            "ticks": "",
            "zerolinecolor": "white"
           }
          },
          "shapedefaults": {
           "line": {
            "color": "#2a3f5f"
           }
          },
          "ternary": {
           "aaxis": {
            "gridcolor": "white",
            "linecolor": "white",
            "ticks": ""
           },
           "baxis": {
            "gridcolor": "white",
            "linecolor": "white",
            "ticks": ""
           },
           "bgcolor": "#E5ECF6",
           "caxis": {
            "gridcolor": "white",
            "linecolor": "white",
            "ticks": ""
           }
          },
          "title": {
           "x": 0.05
          },
          "xaxis": {
           "automargin": true,
           "gridcolor": "white",
           "linecolor": "white",
           "ticks": "",
           "title": {
            "standoff": 15
           },
           "zerolinecolor": "white",
           "zerolinewidth": 2
          },
          "yaxis": {
           "automargin": true,
           "gridcolor": "white",
           "linecolor": "white",
           "ticks": "",
           "title": {
            "standoff": 15
           },
           "zerolinecolor": "white",
           "zerolinewidth": 2
          }
         }
        },
        "width": 2000
       }
      }
     },
     "metadata": {},
     "output_type": "display_data"
    }
   ],
   "source": [
    "plot('../eta-pi-data/eta-pi0-testing.h5', '0 NCPi0', 5)"
   ]
  },
  {
   "cell_type": "code",
   "execution_count": 28,
   "id": "779dd076",
   "metadata": {},
   "outputs": [
    {
     "ename": "TypeError",
     "evalue": "plot() missing 1 required positional argument: 'index'",
     "output_type": "error",
     "traceback": [
      "\u001b[31m---------------------------------------------------------------------------\u001b[39m",
      "\u001b[31mTypeError\u001b[39m                                 Traceback (most recent call last)",
      "\u001b[36mCell\u001b[39m\u001b[36m \u001b[39m\u001b[32mIn[28]\u001b[39m\u001b[32m, line 1\u001b[39m\n\u001b[32m----> \u001b[39m\u001b[32m1\u001b[39m \u001b[43mplot\u001b[49m\u001b[43m(\u001b[49m\u001b[33;43m'\u001b[39;49m\u001b[33;43m../eta-pi-data/merged_Eta.h5\u001b[39;49m\u001b[33;43m'\u001b[39;49m\u001b[43m,\u001b[49m\u001b[43m \u001b[49m\u001b[32;43m2\u001b[39;49m\u001b[43m)\u001b[49m \n",
      "\u001b[31mTypeError\u001b[39m: plot() missing 1 required positional argument: 'index'"
     ]
    }
   ],
   "source": [
    "plot('../eta-pi-data/merged_Eta.h5', 2) "
   ]
  },
  {
   "cell_type": "code",
   "execution_count": 36,
   "id": "e8ea5c6d",
   "metadata": {},
   "outputs": [
    {
     "name": "stdout",
     "output_type": "stream",
     "text": [
      "921, 487\n",
      "7022, 223, 11154\n",
      "[  31.774115 -109.18843   318.9     ]\n"
     ]
    },
    {
     "data": {
      "image/png": "[encoded data removed]",
      "text/plain": [
       "<Figure size 640x480 with 1 Axes>"
      ]
     },
     "metadata": {},
     "output_type": "display_data"
    }
   ],
   "source": [
    "plot('../eta-pi-data/merged_NCPi0.h5', 3) "
   ]
  },
  {
   "cell_type": "code",
   "execution_count": null,
   "id": "1ca3a6fd",
   "metadata": {},
   "outputs": [],
   "source": []
  }
 ],
 "metadata": {
  "kernelspec": {
   "display_name": "ML",
   "language": "python",
   "name": "python3"
  },
  "language_info": {
   "codemirror_mode": {
    "name": "ipython",
    "version": 3
   },
   "file_extension": ".py",
   "mimetype": "text/x-python",
   "name": "python",
   "nbconvert_exporter": "python",
   "pygments_lexer": "ipython3",
   "version": "3.11.13"
  }
 },
 "nbformat": 4,
 "nbformat_minor": 5
}
