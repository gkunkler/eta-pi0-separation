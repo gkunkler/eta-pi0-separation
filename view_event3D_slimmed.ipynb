{
 "cells": [
  {
   "cell_type": "markdown",
   "id": "bbf4d349",
   "metadata": {},
   "source": [
    "This code is for looking for a single event's spacepoints and plotting them"
   ]
  },
  {
   "cell_type": "code",
   "execution_count": 1,
   "id": "d365716b",
   "metadata": {},
   "outputs": [],
   "source": [
    "import pandas as pd\n",
    "import h5py\n",
    "import numpy as np\n",
    "import matplotlib.pyplot as plt\n",
    "import plotly.graph_objects as go\n",
    "import plotly.express as px\n",
    "import plotly.io as pio\n",
    "import plotly"
   ]
  },
  {
   "cell_type": "code",
   "execution_count": 2,
   "id": "f0dc2a5f",
   "metadata": {},
   "outputs": [],
   "source": [
    "def get_index(file_name, group_label, event_index):\n",
    "\n",
    "    with h5py.File(file_name, 'r') as f:\n",
    "\n",
    "        sp = f[group_label]\n",
    "\n",
    "        sequence_info_sp = sp['sequence_info_filtered']\n",
    "\n",
    "        output = np.where(sequence_info_sp[:,0] == event_index)[0][0]\n",
    "\n",
    "        print(output)\n",
    "\n",
    "        return output\n"
   ]
  },
  {
   "cell_type": "code",
   "execution_count": 12,
   "id": "3e49406a",
   "metadata": {},
   "outputs": [],
   "source": [
    "def plot(file_name, og_file_name, group_label, index):\n",
    "\n",
    "    with h5py.File(file_name, 'r') as f:\n",
    "\n",
    "        sp = f[group_label]\n",
    "\n",
    "        event_id, starting_index, num_points, run, subrun, event, description = sp['sequence_info_filtered'][index]\n",
    "        points = sp['point_info_filtered'][starting_index:starting_index+num_points]\n",
    "\n",
    "    with h5py.File(og_file_name, 'r') as f:\n",
    "\n",
    "        pt = f['particle_table']\n",
    "        et = f['event_table']\n",
    "        sp = f['spacepoint_table']\n",
    "\n",
    "        pt_sequence_info = pt['sequence_info']\n",
    "        sp_sequence_info = sp['sequence_info']\n",
    "\n",
    "        parent_id = pt['parent_id']\n",
    "        g4_pdg = pt['g4_pdg']\n",
    "        end_position = pt['end_position_corr']\n",
    "        start_position = pt['start_position_corr']\n",
    "        nu_vtx = et['nu_vtx']\n",
    "        spacepoints = sp['position']\n",
    "\n",
    "        event_index_pt, starting_index_pt, num_points_pt = pt_sequence_info[np.where(pt_sequence_info[:, 0] == event_id)][0]\n",
    "        event_index_sp, starting_index_sp, num_points_sp = sp_sequence_info[np.where(sp_sequence_info[:, 0] == event_id)][0]\n",
    "\n",
    "        print(event_index_pt, starting_index_pt, num_points_pt)\n",
    "        print(event_index_sp, starting_index_sp, num_points_sp)\n",
    "\n",
    "        og_positions = spacepoints[starting_index_sp:starting_index_sp+num_points_sp]\n",
    "\n",
    "        x_og = og_positions[:,0]\n",
    "        y_og = og_positions[:,1]\n",
    "        z_og = og_positions[:,2]\n",
    "\n",
    "        primary_indices = starting_index_pt + np.where(parent_id[starting_index_pt: starting_index_pt+num_points_pt] == 0)[0]\n",
    "\n",
    "        primary_particles = g4_pdg[primary_indices].transpose()[0]\n",
    "        primary_ends = end_position[primary_indices]\n",
    "        # starts = start_position[starting_index_pt: starting_index_pt+num_points_pt]\n",
    "        starts = start_position[primary_indices]\n",
    "        nu_vertex = nu_vtx[np.where(pt_sequence_info[:, 0] == event_id)][0]\n",
    "\n",
    "\n",
    "\n",
    "    print(primary_indices)\n",
    "    print(primary_particles)\n",
    "    print(primary_ends)\n",
    "    print(starts)\n",
    "    print(nu_vertex)\n",
    "\n",
    "    x_p = primary_ends[:, 0]\n",
    "    y_p = primary_ends[:, 1]\n",
    "    z_p = primary_ends[:, 2]\n",
    "\n",
    "    x_start = starts[:, 0]\n",
    "    y_start = starts[:, 1]\n",
    "    z_start = starts[:, 2]\n",
    "\n",
    "    print(f'{starting_index}, {num_points}')\n",
    "    print(f'{run}, {subrun}, {event}')\n",
    "    print(f'{points[0]}')\n",
    "    print(description)\n",
    "\n",
    "    x = points[:, 0]\n",
    "    y = points[:, 1]\n",
    "    z = points[:, 2]\n",
    "    integral = points[:,3]\n",
    "\n",
    "    # fig = plt.figure(dpi=200)\n",
    "    # ax = fig.add_subplot(projection='3d')\n",
    "    # ax.scatter(x,y,z,c=integral, cmap='viridis', alpha=1, marker='.')\n",
    "    # ax.set_xlabel('x [cm]')\n",
    "    # ax.set_ylabel('y [cm]')\n",
    "    # ax.set_zlabel('z [cm]')\n",
    "    # ax.set_aspect('equal')\n",
    "    # ax.view_init(elev=15, azim=160)\n",
    "    # fig.tight_layout()\n",
    "\n",
    "    df = pd.DataFrame({'x':x, 'y':y, 'z':z, 'q':integral})\n",
    "    df_primary_ends = pd.DataFrame({'x':x_p, 'y':y_p, 'z':z_p, 'label':primary_particles})\n",
    "   \n",
    "\n",
    "    plotly_fig = px.scatter_3d(df, x='x', y='y', z='z', size='q', color='q',color_continuous_scale  = plotly.colors.sequential.Plasma)\n",
    "    # plotly_fig.add_trace(go.Scatter3d(x=x_og, y=y_og, z=z_og, line=None, mode='markers', marker={'size':1}))\n",
    "    # plotly_fig.add_trace(go.Scatter3d(x=x_p, y=y_p, z=z_p, hoverinfo='text', text=primary_particles, line=None, mode='markers', marker={'size':5}))\n",
    "    # plotly_fig.add_trace(go.Scatter3d(x=x_start, y=y_start, z=z_start, line=None, mode='markers', marker={'size':3}))\n",
    "    # plotly_fig.add_trace(go.Scatter3d(x=[nu_vertex[0]], y=[nu_vertex[1]], z=[nu_vertex[2]], hoverinfo='text', text='vertex', line=None, mode='markers', marker={'size':5}))\n",
    "    plotly_fig.update_layout(\n",
    "        width=2000,height=1800,\n",
    "        # width=1000,height=900,\n",
    "        # width=500,height=450,\n",
    "        margin=dict(l=0, r=0, b=0, t=0),\n",
    "        scene_camera=dict(\n",
    "            eye=dict(x=-1.5, y=-1.1, z=0.5)),  # Position of the camera\n",
    "        scene = dict(xaxis = dict(showgrid = False,showticklabels = False, visible=False),\n",
    "                                        yaxis = dict(showgrid = False,showticklabels = False, visible=False),\n",
    "                                        zaxis = dict(showgrid = False,showticklabels = False, visible=False)),\n",
    "        # paper_bgcolor='rgba(0,0,0,0)',\n",
    "        # plot_bgcolor='rgba(0,0,0,0)'\n",
    "    )\n",
    "    plotly_fig.update_traces(marker=dict(line=dict(width=0), colorscale='Viridis'))\n",
    "    plotly_fig.show()\n",
    "    # plotly_fig.write_image(\"transparent_plot.png\", width=1500,height=1200, scale=2)\n",
    "\n",
    "\n",
    "def plot_hist_volume(file_name, group, index):\n",
    "\n",
    "    with h5py.File(file_name, 'r') as f:\n",
    "\n",
    "        sp = f['spacepoint_table']\n",
    "\n",
    "        starting_index, num_points = sp['metadata'][index]\n",
    "        run, subrun, event = sp['event_id'][starting_index]\n",
    "        points = sp['position'][starting_index:starting_index+num_points]\n",
    "\n",
    "    print(f'{starting_index}, {num_points}')\n",
    "    print(f'{run}, {subrun}, {event}')\n",
    "    print(f'{points[0]}')\n",
    "\n",
    "    print(points.transpose())\n",
    "\n",
    "    x = points[:, 0]\n",
    "    y = points[:, 1]\n",
    "    z = points[:, 2]\n",
    "\n",
    "    buffer = 10\n",
    "    num_bins = 20\n",
    "    x_bounds = np.linspace(min(x)-buffer, max(x)+buffer, num_bins)\n",
    "    y_bounds = np.linspace(min(y)-buffer, max(y)+buffer, num_bins)\n",
    "    z_bounds = np.linspace(min(z)-buffer, max(z)+buffer, num_bins)\n",
    "\n",
    "    hist3d = np.histogramdd(points, bins=(x_bounds, y_bounds, z_bounds))[0]\n",
    "\n",
    "    print(np.shape(hist3d))\n",
    "\n",
    "    print(np.max(hist3d))\n",
    "\n",
    "    X, Y, Z = np.meshgrid(np.diff(x_bounds), np.diff(y_bounds), np.diff(z_bounds))\n",
    "\n",
    "    print(np.shape(X))\n",
    "\n",
    "    fig = go.Figure(data=go.Volume(\n",
    "        x=X.flatten(),\n",
    "        y=Y.flatten(),\n",
    "        z=Z.flatten(),\n",
    "        value=hist3d.flatten(),\n",
    "        isomin=0.1,\n",
    "        isomax=0.8,\n",
    "        opacity=0.1, # needs to be small to see through all surfaces\n",
    "        surface_count=3, # needs to be a large number for good volume rendering\n",
    "        ))\n",
    "    fig.show()\n"
   ]
  },
  {
   "cell_type": "code",
   "execution_count": 133,
   "id": "4be20698",
   "metadata": {},
   "outputs": [
    {
     "name": "stdout",
     "output_type": "stream",
     "text": [
      "5590\n"
     ]
    }
   ],
   "source": [
    "print(get_index('../eta-pi-data/eta-pi0-update.h5', '1 Eta', 15913))"
   ]
  },
  {
   "cell_type": "code",
   "execution_count": 21,
   "id": "1ca3a6fd",
   "metadata": {},
   "outputs": [
    {
     "name": "stdout",
     "output_type": "stream",
     "text": [
      "9060\n",
      "25959 5770542 717\n",
      "25959 11838573 1214\n",
      "[5770542 5770543 5770544 5770545 5770546 5770547 5770548]\n",
      "[  13   22   22  211 2112 -211  111]\n",
      "[[  74.98363  -156.76616   887.3096  ]\n",
      " [  11.242399  -61.148827  503.62656 ]\n",
      " [  24.43062   -46.0993    472.1955  ]\n",
      " [  -9.447445  -24.699547  559.28424 ]\n",
      " [  10.176832  -51.073353  509.42935 ]\n",
      " [  14.461147  -47.76316   474.80142 ]\n",
      " [   9.089955  -48.62601   472.70496 ]]\n",
      "[[  9.089962 -48.62601  472.70496 ]\n",
      " [  9.089962 -48.62601  472.70496 ]\n",
      " [  9.089962 -48.62601  472.70496 ]\n",
      " [  9.089962 -48.62601  472.70496 ]\n",
      " [  9.089962 -48.62601  472.70496 ]\n",
      " [  9.089962 -48.62601  472.70496 ]\n",
      " [  9.089962 -48.62601  472.70496 ]]\n",
      "[ 87.432076  95.052376 940.60614 ]\n",
      "3376711, 479\n",
      "17133, 10, 548\n",
      "[ 65.08489  -13.406022 448.8       44.839085]\n",
      "1\n"
     ]
    },
    {
     "data": {
      "application/vnd.plotly.v1+json": {
       "config": {
        "plotlyServerURL": "https://plot.ly"
       },
       "data": [
        {
         "hovertemplate": "x=%{x}<br>y=%{y}<br>z=%{z}<br>q=%{marker.color}<extra></extra>",
         "legendgroup": "",
         "marker": {
          "color": {
           "bdata": "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",
           "dtype": "f4"
          },
          "coloraxis": "coloraxis",
          "colorscale": [
           [
            0,
            "#440154"
           ],
           [
            0.1111111111111111,
            "#482878"
           ],
           [
            0.2222222222222222,
            "#3e4989"
           ],
           [
            0.3333333333333333,
            "#31688e"
           ],
           [
            0.4444444444444444,
            "#26828e"
           ],
           [
            0.5555555555555556,
            "#1f9e89"
           ],
           [
            0.6666666666666666,
            "#35b779"
           ],
           [
            0.7777777777777778,
            "#6ece58"
           ],
           [
            0.8888888888888888,
            "#b5de2b"
           ],
           [
            1,
            "#fde725"
           ]
          ],
          "line": {
           "width": 0
          },
          "size": {
           "bdata": "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",
           "dtype": "f4"
          },
          "sizemode": "area",
          "sizeref": 2.338866729736328,
          "symbol": "circle"
         },
         "mode": "markers",
         "name": "",
         "scene": "scene",
         "showlegend": false,
         "type": "scatter3d",
         "x": {
          "bdata": "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",
          "dtype": "f4"
         },
         "y": {
          "bdata": "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",
          "dtype": "f4"
         },
         "z": {
          "bdata": "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",
          "dtype": "f4"
         }
        }
       ],
       "layout": {
        "coloraxis": {
         "colorbar": {
          "title": {
           "text": "q"
          }
         },
         "colorscale": [
          [
           0,
           "#0d0887"
          ],
          [
           0.1111111111111111,
           "#46039f"
          ],
          [
           0.2222222222222222,
           "#7201a8"
          ],
          [
           0.3333333333333333,
           "#9c179e"
          ],
          [
           0.4444444444444444,
           "#bd3786"
          ],
          [
           0.5555555555555556,
           "#d8576b"
          ],
          [
           0.6666666666666666,
           "#ed7953"
          ],
          [
           0.7777777777777778,
           "#fb9f3a"
          ],
          [
           0.8888888888888888,
           "#fdca26"
          ],
          [
           1,
           "#f0f921"
          ]
         ]
        },
        "height": 1800,
        "legend": {
         "itemsizing": "constant",
         "tracegroupgap": 0
        },
        "margin": {
         "b": 0,
         "l": 0,
         "r": 0,
         "t": 0
        },
        "scene": {
         "camera": {
          "eye": {
           "x": -1.5,
           "y": -1.1,
           "z": 0.5
          }
         },
         "domain": {
          "x": [
           0,
           1
          ],
          "y": [
           0,
           1
          ]
         },
         "xaxis": {
          "showgrid": false,
          "showticklabels": false,
          "title": {
           "text": "x"
          },
          "visible": false
         },
         "yaxis": {
          "showgrid": false,
          "showticklabels": false,
          "title": {
           "text": "y"
          },
          "visible": false
         },
         "zaxis": {
          "showgrid": false,
          "showticklabels": false,
          "title": {
           "text": "z"
          },
          "visible": false
         }
        },
        "template": {
         "data": {
          "bar": [
           {
            "error_x": {
             "color": "#2a3f5f"
            },
            "error_y": {
             "color": "#2a3f5f"
            },
            "marker": {
             "line": {
              "color": "#E5ECF6",
              "width": 0.5
             },
             "pattern": {
              "fillmode": "overlay",
              "size": 10,
              "solidity": 0.2
             }
            },
            "type": "bar"
           }
          ],
          "barpolar": [
           {
            "marker": {
             "line": {
              "color": "#E5ECF6",
              "width": 0.5
             },
             "pattern": {
              "fillmode": "overlay",
              "size": 10,
              "solidity": 0.2
             }
            },
            "type": "barpolar"
           }
          ],
          "carpet": [
           {
            "aaxis": {
             "endlinecolor": "#2a3f5f",
             "gridcolor": "white",
             "linecolor": "white",
             "minorgridcolor": "white",
             "startlinecolor": "#2a3f5f"
            },
            "baxis": {
             "endlinecolor": "#2a3f5f",
             "gridcolor": "white",
             "linecolor": "white",
             "minorgridcolor": "white",
             "startlinecolor": "#2a3f5f"
            },
            "type": "carpet"
           }
          ],
          "choropleth": [
           {
            "colorbar": {
             "outlinewidth": 0,
             "ticks": ""
            },
            "type": "choropleth"
           }
          ],
          "contour": [
           {
            "colorbar": {
             "outlinewidth": 0,
             "ticks": ""
            },
            "colorscale": [
             [
              0,
              "#0d0887"
             ],
             [
              0.1111111111111111,
              "#46039f"
             ],
             [
              0.2222222222222222,
              "#7201a8"
             ],
             [
              0.3333333333333333,
              "#9c179e"
             ],
             [
              0.4444444444444444,
              "#bd3786"
             ],
             [
              0.5555555555555556,
              "#d8576b"
             ],
             [
              0.6666666666666666,
              "#ed7953"
             ],
             [
              0.7777777777777778,
              "#fb9f3a"
             ],
             [
              0.8888888888888888,
              "#fdca26"
             ],
             [
              1,
              "#f0f921"
             ]
            ],
            "type": "contour"
           }
          ],
          "contourcarpet": [
           {
            "colorbar": {
             "outlinewidth": 0,
             "ticks": ""
            },
            "type": "contourcarpet"
           }
          ],
          "heatmap": [
           {
            "colorbar": {
             "outlinewidth": 0,
             "ticks": ""
            },
            "colorscale": [
             [
              0,
              "#0d0887"
             ],
             [
              0.1111111111111111,
              "#46039f"
             ],
             [
              0.2222222222222222,
              "#7201a8"
             ],
             [
              0.3333333333333333,
              "#9c179e"
             ],
             [
              0.4444444444444444,
              "#bd3786"
             ],
             [
              0.5555555555555556,
              "#d8576b"
             ],
             [
              0.6666666666666666,
              "#ed7953"
             ],
             [
              0.7777777777777778,
              "#fb9f3a"
             ],
             [
              0.8888888888888888,
              "#fdca26"
             ],
             [
              1,
              "#f0f921"
             ]
            ],
            "type": "heatmap"
           }
          ],
          "histogram": [
           {
            "marker": {
             "pattern": {
              "fillmode": "overlay",
              "size": 10,
              "solidity": 0.2
             }
            },
            "type": "histogram"
           }
          ],
          "histogram2d": [
           {
            "colorbar": {
             "outlinewidth": 0,
             "ticks": ""
            },
            "colorscale": [
             [
              0,
              "#0d0887"
             ],
             [
              0.1111111111111111,
              "#46039f"
             ],
             [
              0.2222222222222222,
              "#7201a8"
             ],
             [
              0.3333333333333333,
              "#9c179e"
             ],
             [
              0.4444444444444444,
              "#bd3786"
             ],
             [
              0.5555555555555556,
              "#d8576b"
             ],
             [
              0.6666666666666666,
              "#ed7953"
             ],
             [
              0.7777777777777778,
              "#fb9f3a"
             ],
             [
              0.8888888888888888,
              "#fdca26"
             ],
             [
              1,
              "#f0f921"
             ]
            ],
            "type": "histogram2d"
           }
          ],
          "histogram2dcontour": [
           {
            "colorbar": {
             "outlinewidth": 0,
             "ticks": ""
            },
            "colorscale": [
             [
              0,
              "#0d0887"
             ],
             [
              0.1111111111111111,
              "#46039f"
             ],
             [
              0.2222222222222222,
              "#7201a8"
             ],
             [
              0.3333333333333333,
              "#9c179e"
             ],
             [
              0.4444444444444444,
              "#bd3786"
             ],
             [
              0.5555555555555556,
              "#d8576b"
             ],
             [
              0.6666666666666666,
              "#ed7953"
             ],
             [
              0.7777777777777778,
              "#fb9f3a"
             ],
             [
              0.8888888888888888,
              "#fdca26"
             ],
             [
              1,
              "#f0f921"
             ]
            ],
            "type": "histogram2dcontour"
           }
          ],
          "mesh3d": [
           {
            "colorbar": {
             "outlinewidth": 0,
             "ticks": ""
            },
            "type": "mesh3d"
           }
          ],
          "parcoords": [
           {
            "line": {
             "colorbar": {
              "outlinewidth": 0,
              "ticks": ""
             }
            },
            "type": "parcoords"
           }
          ],
          "pie": [
           {
            "automargin": true,
            "type": "pie"
           }
          ],
          "scatter": [
           {
            "fillpattern": {
             "fillmode": "overlay",
             "size": 10,
             "solidity": 0.2
            },
            "type": "scatter"
           }
          ],
          "scatter3d": [
           {
            "line": {
             "colorbar": {
              "outlinewidth": 0,
              "ticks": ""
             }
            },
            "marker": {
             "colorbar": {
              "outlinewidth": 0,
              "ticks": ""
             }
            },
            "type": "scatter3d"
           }
          ],
          "scattercarpet": [
           {
            "marker": {
             "colorbar": {
              "outlinewidth": 0,
              "ticks": ""
             }
            },
            "type": "scattercarpet"
           }
          ],
          "scattergeo": [
           {
            "marker": {
             "colorbar": {
              "outlinewidth": 0,
              "ticks": ""
             }
            },
            "type": "scattergeo"
           }
          ],
          "scattergl": [
           {
            "marker": {
             "colorbar": {
              "outlinewidth": 0,
              "ticks": ""
             }
            },
            "type": "scattergl"
           }
          ],
          "scattermap": [
           {
            "marker": {
             "colorbar": {
              "outlinewidth": 0,
              "ticks": ""
             }
            },
            "type": "scattermap"
           }
          ],
          "scattermapbox": [
           {
            "marker": {
             "colorbar": {
              "outlinewidth": 0,
              "ticks": ""
             }
            },
            "type": "scattermapbox"
           }
          ],
          "scatterpolar": [
           {
            "marker": {
             "colorbar": {
              "outlinewidth": 0,
              "ticks": ""
             }
            },
            "type": "scatterpolar"
           }
          ],
          "scatterpolargl": [
           {
            "marker": {
             "colorbar": {
              "outlinewidth": 0,
              "ticks": ""
             }
            },
            "type": "scatterpolargl"
           }
          ],
          "scatterternary": [
           {
            "marker": {
             "colorbar": {
              "outlinewidth": 0,
              "ticks": ""
             }
            },
            "type": "scatterternary"
           }
          ],
          "surface": [
           {
            "colorbar": {
             "outlinewidth": 0,
             "ticks": ""
            },
            "colorscale": [
             [
              0,
              "#0d0887"
             ],
             [
              0.1111111111111111,
              "#46039f"
             ],
             [
              0.2222222222222222,
              "#7201a8"
             ],
             [
              0.3333333333333333,
              "#9c179e"
             ],
             [
              0.4444444444444444,
              "#bd3786"
             ],
             [
              0.5555555555555556,
              "#d8576b"
             ],
             [
              0.6666666666666666,
              "#ed7953"
             ],
             [
              0.7777777777777778,
              "#fb9f3a"
             ],
             [
              0.8888888888888888,
              "#fdca26"
             ],
             [
              1,
              "#f0f921"
             ]
            ],
            "type": "surface"
           }
          ],
          "table": [
           {
            "cells": {
             "fill": {
              "color": "#EBF0F8"
             },
             "line": {
              "color": "white"
             }
            },
            "header": {
             "fill": {
              "color": "#C8D4E3"
             },
             "line": {
              "color": "white"
             }
            },
            "type": "table"
           }
          ]
         },
         "layout": {
          "annotationdefaults": {
           "arrowcolor": "#2a3f5f",
           "arrowhead": 0,
           "arrowwidth": 1
          },
          "autotypenumbers": "strict",
          "coloraxis": {
           "colorbar": {
            "outlinewidth": 0,
            "ticks": ""
           }
          },
          "colorscale": {
           "diverging": [
            [
             0,
             "#8e0152"
            ],
            [
             0.1,
             "#c51b7d"
            ],
            [
             0.2,
             "#de77ae"
            ],
            [
             0.3,
             "#f1b6da"
            ],
            [
             0.4,
             "#fde0ef"
            ],
            [
             0.5,
             "#f7f7f7"
            ],
            [
             0.6,
             "#e6f5d0"
            ],
            [
             0.7,
             "#b8e186"
            ],
            [
             0.8,
             "#7fbc41"
            ],
            [
             0.9,
             "#4d9221"
            ],
            [
             1,
             "#276419"
            ]
           ],
           "sequential": [
            [
             0,
             "#0d0887"
            ],
            [
             0.1111111111111111,
             "#46039f"
            ],
            [
             0.2222222222222222,
             "#7201a8"
            ],
            [
             0.3333333333333333,
             "#9c179e"
            ],
            [
             0.4444444444444444,
             "#bd3786"
            ],
            [
             0.5555555555555556,
             "#d8576b"
            ],
            [
             0.6666666666666666,
             "#ed7953"
            ],
            [
             0.7777777777777778,
             "#fb9f3a"
            ],
            [
             0.8888888888888888,
             "#fdca26"
            ],
            [
             1,
             "#f0f921"
            ]
           ],
           "sequentialminus": [
            [
             0,
             "#0d0887"
            ],
            [
             0.1111111111111111,
             "#46039f"
            ],
            [
             0.2222222222222222,
             "#7201a8"
            ],
            [
             0.3333333333333333,
             "#9c179e"
            ],
            [
             0.4444444444444444,
             "#bd3786"
            ],
            [
             0.5555555555555556,
             "#d8576b"
            ],
            [
             0.6666666666666666,
             "#ed7953"
            ],
            [
             0.7777777777777778,
             "#fb9f3a"
            ],
            [
             0.8888888888888888,
             "#fdca26"
            ],
            [
             1,
             "#f0f921"
            ]
           ]
          },
          "colorway": [
           "#636efa",
           "#EF553B",
           "#00cc96",
           "#ab63fa",
           "#FFA15A",
           "#19d3f3",
           "#FF6692",
           "#B6E880",
           "#FF97FF",
           "#FECB52"
          ],
          "font": {
           "color": "#2a3f5f"
          },
          "geo": {
           "bgcolor": "white",
           "lakecolor": "white",
           "landcolor": "#E5ECF6",
           "showlakes": true,
           "showland": true,
           "subunitcolor": "white"
          },
          "hoverlabel": {
           "align": "left"
          },
          "hovermode": "closest",
          "mapbox": {
           "style": "light"
          },
          "paper_bgcolor": "white",
          "plot_bgcolor": "#E5ECF6",
          "polar": {
           "angularaxis": {
            "gridcolor": "white",
            "linecolor": "white",
            "ticks": ""
           },
           "bgcolor": "#E5ECF6",
           "radialaxis": {
            "gridcolor": "white",
            "linecolor": "white",
            "ticks": ""
           }
          },
          "scene": {
           "xaxis": {
            "backgroundcolor": "#E5ECF6",
            "gridcolor": "white",
            "gridwidth": 2,
            "linecolor": "white",
            "showbackground": true,
            "ticks": "",
            "zerolinecolor": "white"
           },
           "yaxis": {
            "backgroundcolor": "#E5ECF6",
            "gridcolor": "white",
            "gridwidth": 2,
            "linecolor": "white",
            "showbackground": true,
            "ticks": "",
            "zerolinecolor": "white"
           },
           "zaxis": {
            "backgroundcolor": "#E5ECF6",
            "gridcolor": "white",
            "gridwidth": 2,
            "linecolor": "white",
            "showbackground": true,
            "ticks": "",
            "zerolinecolor": "white"
           }
          },
          "shapedefaults": {
           "line": {
            "color": "#2a3f5f"
           }
          },
          "ternary": {
           "aaxis": {
            "gridcolor": "white",
            "linecolor": "white",
            "ticks": ""
           },
           "baxis": {
            "gridcolor": "white",
            "linecolor": "white",
            "ticks": ""
           },
           "bgcolor": "#E5ECF6",
           "caxis": {
            "gridcolor": "white",
            "linecolor": "white",
            "ticks": ""
           }
          },
          "title": {
           "x": 0.05
          },
          "xaxis": {
           "automargin": true,
           "gridcolor": "white",
           "linecolor": "white",
           "ticks": "",
           "title": {
            "standoff": 15
           },
           "zerolinecolor": "white",
           "zerolinewidth": 2
          },
          "yaxis": {
           "automargin": true,
           "gridcolor": "white",
           "linecolor": "white",
           "ticks": "",
           "title": {
            "standoff": 15
           },
           "zerolinecolor": "white",
           "zerolinewidth": 2
          }
         }
        },
        "width": 2000
       }
      }
     },
     "metadata": {},
     "output_type": "display_data"
    }
   ],
   "source": [
    "index = get_index('../eta-pi-data/eta-pi0-update.h5', '1 Eta', 25959)\n",
    "plot('../eta-pi-data/eta-pi0-update.h5', '../eta-pi-data/merged_Eta_update_sequenced.h5', '1 Eta', index)"
   ]
  },
  {
   "cell_type": "code",
   "execution_count": 112,
   "id": "eb41f54d",
   "metadata": {},
   "outputs": [
    {
     "name": "stdout",
     "output_type": "stream",
     "text": [
      "12 4834 442\n",
      "12 10684 986\n",
      "[4834 4835 4836]\n",
      "[2112 2212  111]\n",
      "[[158.62305   37.39063  270.65564 ]\n",
      " [152.12982   29.498543 246.40514 ]\n",
      " [154.46765   30.457283 245.04256 ]]\n",
      "[[154.46765   30.457283 245.04256 ]\n",
      " [154.46765   30.457283 245.04256 ]\n",
      " [154.46765   30.457283 245.04256 ]]\n",
      "[150.99283   34.585426 245.16612 ]\n",
      "3074, 274\n",
      "7022, 223, 11163\n",
      "[153.30734   26.604351 249.9       70.609436]\n",
      "10\n"
     ]
    },
    {
     "data": {
      "application/vnd.plotly.v1+json": {
       "config": {
        "plotlyServerURL": "https://plot.ly"
       },
       "data": [
        {
         "hovertemplate": "x=%{x}<br>y=%{y}<br>z=%{z}<br>q=%{marker.color}<extra></extra>",
         "legendgroup": "",
         "marker": {
          "color": {
           "bdata": "CDiNQqlXkkLnvZRC9iipQnBymUIM/ZZCrtyZQgWbh0Iu2s5CLbPrQgGGyEIBk6tC57qYQjKjkELCL5tCXuOSQsa3oEKmp0BD3wW4QvA9M0MnrrtCzADlQtOQCUM96tZCWLgYQ57m6EKkWS9DO3jRQhM92kINJr9C/VoYQ9zhwEJaa3BDYA3AQthNckMm6U1D1711Q2AkoUMYyoFDhFWrQzZUjEM5L8dDYlmJQ2DM3kOA6rtDkOL2QxGV5ENXtQZEvJSRQ+Dsu0NmUYFDM0h2Q5QPhEMAqe5D3ouEQx3CP0RnbL9DX64pREKZEUTgmNNDNvATRAAYJUO83rRD8Zd8Q+0x5kJ5NW5C1643Q3fP5UJP4spD5v9WQqyTLEMTcw5EC55gQqQpQkPdmpZD0riuQ+QjmELgH3tDeCPbQox3hUJhiXlDup7uQjPVoUJDsn9DCAUPQ6POuUKDaqNCtJxuQ4LWN0PE06RCHZS3QrDYCEKi6oBDIpYRQ0vUpELXaoBDmY0KQ1U2zUK10rNDbS0HQz8RI0NhIERDaLxZQzcMDUOpmJJCW8qhQ/QkIEMQpnhD/c4qQ6HGj0KENzFDWZ/bQiTy7kGcod1Ch8ctQwyR8kI1GKNCwXxFQ2A/2UICMv9CPjNwQ4x97UKUZ79CLZk3QibJqEOF6j1DkWB3QvABC0MaNJJDyQQFQyHIdkKvMEdCRNIiQ83uqEK+UT5CWkCTQnHCckKAhRpD68DTQvhpJ0Km4upCofXxQhEuJENecVlCEuwpQyj2LULFMeJCGMqlQr+xgUMXvoBCakjWQghFJkKap7BC/k+7Q39UKkOvAh1Cv8ajQn5tZEPYkRxCRzf1QiAuOkLwlM1CWqlrQlJvL0PgqY5DKCVbQlj0hEIonnhCPVIgQxoDhEP+8zdDCVXbQlq6U0IxG0tCOv2uQkTsMUNjezJDDIleQjQUaEKpTHJD5D1pQ9hkNkKr1mlCAOaBQ1/lOELth2lCOEqxQrLGCkM+aRhDB31JQlYUbELBcthCFy8/Q9v1OkINg19CqmyzQkJYZ0NuWTdCuMFrQvvGf0PiSTdCyCx+Qg5x0EIeh0tC1hqVQhRW6UKxxJNCuTS1QhwGv0LeMqpClhOyQmUSNEI/INZCjfQAQwcVOEIbVO9Cb79iQ0A2WENQo4VC294NQ1OwgkPNboNCaZwXQzh+gkIvTl1C7qKPQkJvzkKFuERDYFTNQmFSb0J4q4JDs5D+QryMtkJcvAtDVelQQgtJJELR9pZChK7GQua840KSwatCaPyaQtS6y0LSmJlCPKuhQkVKPUKVq7NC2uaUQtken0JehJNC+XGlQjpHK0ORdSVDgbfmQiJJ+ULZzjBDx8AJQ0rPwEIb5rpCas2bQokngkLcRPBC4HEoQ+6KwUJaJEdCuEiHQhX3nUIIHZVC9qMxQ+g/xkIN6UtCLYupQq/DtEJe7YFDpK61Qg==",
           "dtype": "f4"
          },
          "coloraxis": "coloraxis",
          "colorscale": [
           [
            0,
            "#440154"
           ],
           [
            0.1111111111111111,
            "#482878"
           ],
           [
            0.2222222222222222,
            "#3e4989"
           ],
           [
            0.3333333333333333,
            "#31688e"
           ],
           [
            0.4444444444444444,
            "#26828e"
           ],
           [
            0.5555555555555556,
            "#1f9e89"
           ],
           [
            0.6666666666666666,
            "#35b779"
           ],
           [
            0.7777777777777778,
            "#6ece58"
           ],
           [
            0.8888888888888888,
            "#b5de2b"
           ],
           [
            1,
            "#fde725"
           ]
          ],
          "line": {
           "width": 0
          },
          "size": {
           "bdata": "CDiNQqlXkkLnvZRC9iipQnBymUIM/ZZCrtyZQgWbh0Iu2s5CLbPrQgGGyEIBk6tC57qYQjKjkELCL5tCXuOSQsa3oEKmp0BD3wW4QvA9M0MnrrtCzADlQtOQCUM96tZCWLgYQ57m6EKkWS9DO3jRQhM92kINJr9C/VoYQ9zhwEJaa3BDYA3AQthNckMm6U1D1711Q2AkoUMYyoFDhFWrQzZUjEM5L8dDYlmJQ2DM3kOA6rtDkOL2QxGV5ENXtQZEvJSRQ+Dsu0NmUYFDM0h2Q5QPhEMAqe5D3ouEQx3CP0RnbL9DX64pREKZEUTgmNNDNvATRAAYJUO83rRD8Zd8Q+0x5kJ5NW5C1643Q3fP5UJP4spD5v9WQqyTLEMTcw5EC55gQqQpQkPdmpZD0riuQ+QjmELgH3tDeCPbQox3hUJhiXlDup7uQjPVoUJDsn9DCAUPQ6POuUKDaqNCtJxuQ4LWN0PE06RCHZS3QrDYCEKi6oBDIpYRQ0vUpELXaoBDmY0KQ1U2zUK10rNDbS0HQz8RI0NhIERDaLxZQzcMDUOpmJJCW8qhQ/QkIEMQpnhD/c4qQ6HGj0KENzFDWZ/bQiTy7kGcod1Ch8ctQwyR8kI1GKNCwXxFQ2A/2UICMv9CPjNwQ4x97UKUZ79CLZk3QibJqEOF6j1DkWB3QvABC0MaNJJDyQQFQyHIdkKvMEdCRNIiQ83uqEK+UT5CWkCTQnHCckKAhRpD68DTQvhpJ0Km4upCofXxQhEuJENecVlCEuwpQyj2LULFMeJCGMqlQr+xgUMXvoBCakjWQghFJkKap7BC/k+7Q39UKkOvAh1Cv8ajQn5tZEPYkRxCRzf1QiAuOkLwlM1CWqlrQlJvL0PgqY5DKCVbQlj0hEIonnhCPVIgQxoDhEP+8zdDCVXbQlq6U0IxG0tCOv2uQkTsMUNjezJDDIleQjQUaEKpTHJD5D1pQ9hkNkKr1mlCAOaBQ1/lOELth2lCOEqxQrLGCkM+aRhDB31JQlYUbELBcthCFy8/Q9v1OkINg19CqmyzQkJYZ0NuWTdCuMFrQvvGf0PiSTdCyCx+Qg5x0EIeh0tC1hqVQhRW6UKxxJNCuTS1QhwGv0LeMqpClhOyQmUSNEI/INZCjfQAQwcVOEIbVO9Cb79iQ0A2WENQo4VC294NQ1OwgkPNboNCaZwXQzh+gkIvTl1C7qKPQkJvzkKFuERDYFTNQmFSb0J4q4JDs5D+QryMtkJcvAtDVelQQgtJJELR9pZChK7GQua840KSwatCaPyaQtS6y0LSmJlCPKuhQkVKPUKVq7NC2uaUQtken0JehJNC+XGlQjpHK0ORdSVDgbfmQiJJ+ULZzjBDx8AJQ0rPwEIb5rpCas2bQokngkLcRPBC4HEoQ+6KwUJaJEdCuEiHQhX3nUIIHZVC9qMxQ+g/xkIN6UtCLYupQq/DtEJe7YFDpK61Qg==",
           "dtype": "f4"
          },
          "sizemode": "area",
          "sizeref": 1.9175825500488282,
          "symbol": "circle"
         },
         "mode": "markers",
         "name": "",
         "scene": "scene",
         "showlegend": false,
         "type": "scatter3d",
         "x": {
          "bdata": "rk4ZQ9ReGUNAFhlDBRgZQ6QPGUP+8RhDOPcYQ03tGEPNnhhDo9wYQz25GEMFfxhDCWoYQ4piGENQWxhD8UYYQ0oOGEOGax5DAwgYQ4NbHkMv+BdDqVweQxXxF0PRPx5DMuoXQ2tJHkNGtRdD/zIeQ1mTF0NhOR5Du6MXQ+8SHkMqpBdDqSEeQ2iZF0Oi/R1Dzm8XQxIZHkPeXxdD0hAeQ+dIF0OfSB5DkBAXQ1lFHkM42BZDicQeQ9LAFkOLtR5D7aoWQ6jkHkPOiRZDUSEfQ5GMFkM+Sx9DJXMWQ+Q8H0PZLBZDZVIfQ1LzFUNKXB9DGvQVQ4daH0M5IRZDrV4fQ4OvIEOUlhVDEQ8WQ/dPH0MfriBDFEMVQ4XsFUNOxiBD0DQVQzvUFUOHzSBDKd0VQ/rhIEPpjhVDmDkWQ/XwIEM0eRVDhTMWQ5bqIEPVWxVDfvMVQ7qBIENa1yBDKAgVQ837FUOegiBDk9cgQzsTIkMG2xRDZ98VQxG/IEOQqRRDJMoVQ1LAIEMiqRRDUs4VQ1nqIEPM/xNDmbcUQ4HRFUNOACFDQyUUQwSoFUNRERRDPWwVQ+DZFUOMuxNDxa8UQ3NbFUMu0hVDn8oTQyq5FEOlwhVDLaQTQ4enFENXrhVDgnMTQ8arFENuuxVDWvMqQ5pLE0N9hxRD3MQVQ6PtKkOh+hJDtIUUQ8yxFUMv8ypDh24SQ3YZE0MqpxRDz7QVQ7sHG0OKABJDugQTQ3yhFEMQxxVDkfIaQ6iFEUOR7hJDOlgTQ7yoFEPf9RVDtuAaQxnLEENx3hJDhmgTQz3LFEMJARZDCX0QQxVNE0OKrRRDIQcWQ9lND0ORmhBD7DkTQ3SrFEP21RVDryMaQ6E1DUNh3Q5DtaYUQzLWFUPiIBpD0RMmQ+kFDUNQ/A1DRt0OQ7eZFEOv4RVDUywlQ9jzJUMuhAxDtqQUQ0LzFUN+SCVD5isMQ0eyFENs/hVD9MsLQ+TSFEMVHRZDt2geQ2VgJkPxyQtDJesUQ9odFkNDdx5DvV0mQ5HpFENRKRZDdUceQ04BJkO68hRD+jIWQ8mfJUP26RRDwnEWQ+yhJUNV8hRDuoUWQ9QNFUNYahZDRsITQ0EKFUOvehZDJMATQxsSFUO3vBZDN/0WQ0EIFkNHORdDTC0WQzUrF0Nnsg5DtfEVQ98kF0PYlA5DMuoVQzykDkNV3RVD6KEOQ5KfDkNPcg5DjCwOQy79EEOHJgxDNRsMQw32C0N4+wtDhgMMQz41BUMmHgVDe+8EQ+9DBEMaJARD4xwEQ2ciBEP4NBJD2DESQ/CBCEO3JhJD7IEIQ+IyEkP1YfRCCWX0QpLqDEOg4QxDCOsMQ8fIDEMi4AxDGL4MQ68VCUO6GglDmDAJQ0RbCkPLFAlDX9AJQ69PCkPMDglDMcgJQwEzDkNwNQ5DQsMKQ1i4CkM16BdDNegXQ96ZDENPnQxDpIYMQw==",
          "dtype": "f4"
         },
         "y": {
          "bdata": "ttXUQSmb10GKrdBBcDjWQbbV1EGlIstBRBDSQYqt0EEGNcRB0UrPQQY1xEHaDMBBIaq+QWhHvUFoR71B9YG6QclZtkERf1bByVm2QYNEWcFWlLNBEX9WwZ0xskFOWmTBnTGyQduUYcG3pqxBGXBvwUXhqUGmqmzB/kOrQeSFesFF4alBjDVywYt+qEEea4HBX1akQRWpkMGm86JBZAiAwTMuoEHFSaHBBwacQSZcmsGVQJlBJYvCwdvdl0EU2LjBaRiVQSWLwsE98JBBNj7Mwa+1k0E/L+XBg42PQWNm0MHBTnhBAVTXweSfiEEJRfDBKz2HQbH058Hbw3JBqDL3weVjGcL/FINBTol1QT8v5cGIshjCMxR7QZ4CikFcihTCwU54QeSfiEFynhbCuV1fQXKeFsL/FINBKz2HQSwBGMIrPYdBctqFQSwBGMK4d4RBKyNiQaMnE8IW7RXCjE+AQUaygUEA2RPCz08XwofhQMJOiXVBMxR7Qbk7FcIrI2JBwU54Qbk7FcJp/m9B28NyQeVjGcLuR1RBMxR7QfY4bUH7dxvC7kdUQSsjYkEIvU5BTol1QWn+b0HL4UBBptl9QU6JdUEIvU5BsGxGQYxPgEGe6GRBlvdLQdvDckHT0llBjQYzQabZfUErI2JB/wc8wnuCUUHbw3JBnuhkQaJWO8JQKyVB28NyQXuCUUFbuTzCE1AXQXuCUUEzFHtBlvdLQfDpA0FIOgxB7kdUQabZfUFgDVdBYq8GQfDpA0GW90tBsGxGQf8Ug0Goey1B8OkDQWUd7EB7glFBPqdDQZ4CikEbQTBBmgfhQD6nQ0Hbw3JBqHstQaSaqUB/kuZAsGxGQcFOeEGW90tBV2WLQZJFWUAOb5NATol1QSMySUERyIxBCol1wscvTkBezoJA9PmYQPY4bUGwbEZBZzp2wmc6dsLRwhZAg3NqQbBsRkHE63bCTNfUP2n+b0E+p0NBB0F4voxPgEGwbEZBAVTXwd5gccLaztS+af5vQZb3S0GFzOPBJf5vwk6JdUGwbEZBY2bQwQ/qbcLbw3JBPqdDQePBacJOiXVBjQYzQUBzasL2OG1BqHstQSsjYkGwbEZB8OkDQfY4bUE+p0NBfSQBQSsjYkGoey1BqHstQUqo8UDdZSJBFb78QGKvBkHD8CdBFb78QGKvBkFroB9BSqjxQMPwJ0EvM/dAhRUaQd1lIkE1tipBjQYzQVxbZECLVJI/i1SSP5WjHz+Vox8/f+qNPkRZiEAp5I1ARFmIQA5vk0Ap5I1AKeSNQA5vk0CW90tB09JZQSZcmsGW90tBJlyawe5HVEEwYhDCjRMRwv76dMFxwHfBwR9nwYw1csEz5WnBccB3wY0TEcLUsA/C9HRzwjsScsL0dHPCUSZ0wpjDcsL0dHPCrtd0wlp1t8GhErbBHt4uwpGjMcL0+ZhAKeSNQPrRjcL60Y3CnSCNwg==",
          "dtype": "f4"
         },
         "z": {
          "bdata": "ZuZ5Q5oZekNmZnpDzcx6Q5oZe0NmZntDM7N7QwAAfEPNTHxDAIB8Q2bmfEMzM31DAIB9Q83MfUMAAH5DZmZ+QzOzfkOamX5DZuZ+Q2bmfkPNTH9DMzN/Q5qZf0MAgH9Dzcx/Q83Mf0OaGYBDzQyAQzMzgEMzM4BDmlmAQ5pZgEMAgIBDAICAQ2amgEMzs4BDzcyAQ5rZgEMz84BDM/OAQ2YmgUNmJoFDzUyBQ81MgUNmZoFDM3OBQ82MgUOamYFDAMCBQwDAgUNm5oFDZuaBQwAAgkMAAIJDZiaCQ2YmgkOaWYJDzUyCQwCAgkMAgIJDZqaCQ5qZgkMAwIJDAMCCQ83MgkNm5oJDZuaCQ2bmgkMz84JDmhmDQ80Mg0PNDINDAECDQzMzg0MzM4NDZmaDQ2Zmg0MAgINDzYyDQwCAg0NmpoNDM7ODQzOzg0Oa2YNDmtmDQ5rZg0Oa2YNDAACEQzPzg0MAAIRDM/ODQzPzg0OaGYRDmhmEQ5oZhEMAQIRDAECEQ81MhENmZoRDM3OEQ2ZmhEOamYRDmpmEQ82MhEPNjIRDM7OEQwDAhENm5oRDZuaEQ2bmhEPNDIVDzQyFQwAAhUMAAIVDZiaFQzMzhUMzM4VDmlmFQ5pZhUPNTIVDAICFQzNzhUMzc4VDAICFQ2amhUNmpoVDmpmFQ2amhUMAwIVDAMCFQwDAhUMAwIVDZuaFQzPzhUNm5oVDM/OFQzPzhUOaGYZDmhmGQ80MhkPNDIZDmhmGQwBAhkMAQIZDAECGQzMzhkMzM4ZDAECGQ2ZmhkOaWYZDZmaGQ5pZhkOaWYZDAICGQwCAhkPNjIZDAICGQzOzhkNmpoZDZqaGQ2amhkNmpoZDM7OGQ5rZhkPNzIZDzcyGQ83MhkOa2YZDmtmGQwAAh0Mz84ZDM/OGQzPzhkMz84ZDAACHQwAAh0NmJodDmhmHQ2Ymh0NmJodDAECHQ81Mh0PNTIdDZmaHQ2Zmh0Mzc4dDZmaHQzNzh0PNjIdDmpmHQ82Mh0PNjIdDzYyHQzOzh0MAwIdDAMCHQzOzh0Oa2YdDZuaHQ2bmh0MAAIhDAACIQ80MiENmJohDMzOIQ5pZiEOaWYhDM3OIQzNziEMAgIhDmpmIQ2amiEOamYhDzcyIQzPziENm5ohDzQyJQ5oZiUMzM4lDAECJQzMziUOaWYlDmlmJQwCAiUMAgIlDZqaJQ83MiUMz84lDmhmKQ5oZikOamYpDM7OKQ5rZikPNDItDZiaLQ83MjEMz84xDmhmNQ81MjUMzc41DzYyNQzOzjUPNDJJDMzOSQ2ZmkkOaWZJDAICSQwCAkkPNjJZDM7OWQzNzl0OamZdDzcyXQ2bml0PNDJhDMzOYQ83MmkNm5ppDzcybQ83Mm0MAAJxDM/ObQzPzm0OaGZxDmhmcQwBAnENmZpxDmlmeQ82MnkPNjJ5DZqaeQwCAoEOamaBDzcygQw==",
          "dtype": "f4"
         }
        },
        {
         "hoverinfo": "text",
         "marker": {
          "colorscale": [
           [
            0,
            "#440154"
           ],
           [
            0.1111111111111111,
            "#482878"
           ],
           [
            0.2222222222222222,
            "#3e4989"
           ],
           [
            0.3333333333333333,
            "#31688e"
           ],
           [
            0.4444444444444444,
            "#26828e"
           ],
           [
            0.5555555555555556,
            "#1f9e89"
           ],
           [
            0.6666666666666666,
            "#35b779"
           ],
           [
            0.7777777777777778,
            "#6ece58"
           ],
           [
            0.8888888888888888,
            "#b5de2b"
           ],
           [
            1,
            "#fde725"
           ]
          ],
          "line": {
           "width": 0
          },
          "size": 5
         },
         "mode": "markers",
         "text": {
          "bdata": "AAAAAACAoEAAAAAAAEihQAAAAAAAwFtA",
          "dtype": "f8"
         },
         "type": "scatter3d",
         "x": {
          "bdata": "gJ8eQzwhGEO4dxpD",
          "dtype": "f4"
         },
         "y": {
          "bdata": "AZAVQgT960GEqPNB",
          "dtype": "f4"
         },
         "z": {
          "bdata": "7FOHQ7dndkPlCnVD",
          "dtype": "f4"
         }
        },
        {
         "marker": {
          "colorscale": [
           [
            0,
            "#440154"
           ],
           [
            0.1111111111111111,
            "#482878"
           ],
           [
            0.2222222222222222,
            "#3e4989"
           ],
           [
            0.3333333333333333,
            "#31688e"
           ],
           [
            0.4444444444444444,
            "#26828e"
           ],
           [
            0.5555555555555556,
            "#1f9e89"
           ],
           [
            0.6666666666666666,
            "#35b779"
           ],
           [
            0.7777777777777778,
            "#6ece58"
           ],
           [
            0.8888888888888888,
            "#b5de2b"
           ],
           [
            1,
            "#fde725"
           ]
          ],
          "line": {
           "width": 0
          },
          "size": 3
         },
         "mode": "markers",
         "type": "scatter3d",
         "x": {
          "bdata": "uHcaQ7h3GkO4dxpD",
          "dtype": "f4"
         },
         "y": {
          "bdata": "hKjzQYSo80GEqPNB",
          "dtype": "f4"
         },
         "z": {
          "bdata": "5Qp1Q+UKdUPlCnVD",
          "dtype": "f4"
         }
        },
        {
         "hoverinfo": "text",
         "marker": {
          "colorscale": [
           [
            0,
            "#440154"
           ],
           [
            0.1111111111111111,
            "#482878"
           ],
           [
            0.2222222222222222,
            "#3e4989"
           ],
           [
            0.3333333333333333,
            "#31688e"
           ],
           [
            0.4444444444444444,
            "#26828e"
           ],
           [
            0.5555555555555556,
            "#1f9e89"
           ],
           [
            0.6666666666666666,
            "#35b779"
           ],
           [
            0.7777777777777778,
            "#6ece58"
           ],
           [
            0.8888888888888888,
            "#b5de2b"
           ],
           [
            1,
            "#fde725"
           ]
          ],
          "line": {
           "width": 0
          },
          "size": 5
         },
         "mode": "markers",
         "text": "vertex",
         "type": "scatter3d",
         "x": [
          150.99282836914062
         ],
         "y": [
          34.585426330566406
         ],
         "z": [
          245.16612243652344
         ]
        }
       ],
       "layout": {
        "coloraxis": {
         "colorbar": {
          "title": {
           "text": "q"
          }
         },
         "colorscale": [
          [
           0,
           "#440154"
          ],
          [
           0.1111111111111111,
           "#482878"
          ],
          [
           0.2222222222222222,
           "#3e4989"
          ],
          [
           0.3333333333333333,
           "#31688e"
          ],
          [
           0.4444444444444444,
           "#26828e"
          ],
          [
           0.5555555555555556,
           "#1f9e89"
          ],
          [
           0.6666666666666666,
           "#35b779"
          ],
          [
           0.7777777777777778,
           "#6ece58"
          ],
          [
           0.8888888888888888,
           "#b5de2b"
          ],
          [
           1,
           "#fde725"
          ]
         ]
        },
        "height": 450,
        "legend": {
         "itemsizing": "constant",
         "tracegroupgap": 0
        },
        "margin": {
         "b": 0,
         "l": 0,
         "r": 0,
         "t": 0
        },
        "scene": {
         "camera": {
          "eye": {
           "x": -1.5,
           "y": -1.1,
           "z": 0.5
          }
         },
         "domain": {
          "x": [
           0,
           1
          ],
          "y": [
           0,
           1
          ]
         },
         "xaxis": {
          "title": {
           "text": "x"
          }
         },
         "yaxis": {
          "title": {
           "text": "y"
          }
         },
         "zaxis": {
          "title": {
           "text": "z"
          }
         }
        },
        "template": {
         "data": {
          "bar": [
           {
            "error_x": {
             "color": "#2a3f5f"
            },
            "error_y": {
             "color": "#2a3f5f"
            },
            "marker": {
             "line": {
              "color": "#E5ECF6",
              "width": 0.5
             },
             "pattern": {
              "fillmode": "overlay",
              "size": 10,
              "solidity": 0.2
             }
            },
            "type": "bar"
           }
          ],
          "barpolar": [
           {
            "marker": {
             "line": {
              "color": "#E5ECF6",
              "width": 0.5
             },
             "pattern": {
              "fillmode": "overlay",
              "size": 10,
              "solidity": 0.2
             }
            },
            "type": "barpolar"
           }
          ],
          "carpet": [
           {
            "aaxis": {
             "endlinecolor": "#2a3f5f",
             "gridcolor": "white",
             "linecolor": "white",
             "minorgridcolor": "white",
             "startlinecolor": "#2a3f5f"
            },
            "baxis": {
             "endlinecolor": "#2a3f5f",
             "gridcolor": "white",
             "linecolor": "white",
             "minorgridcolor": "white",
             "startlinecolor": "#2a3f5f"
            },
            "type": "carpet"
           }
          ],
          "choropleth": [
           {
            "colorbar": {
             "outlinewidth": 0,
             "ticks": ""
            },
            "type": "choropleth"
           }
          ],
          "contour": [
           {
            "colorbar": {
             "outlinewidth": 0,
             "ticks": ""
            },
            "colorscale": [
             [
              0,
              "#0d0887"
             ],
             [
              0.1111111111111111,
              "#46039f"
             ],
             [
              0.2222222222222222,
              "#7201a8"
             ],
             [
              0.3333333333333333,
              "#9c179e"
             ],
             [
              0.4444444444444444,
              "#bd3786"
             ],
             [
              0.5555555555555556,
              "#d8576b"
             ],
             [
              0.6666666666666666,
              "#ed7953"
             ],
             [
              0.7777777777777778,
              "#fb9f3a"
             ],
             [
              0.8888888888888888,
              "#fdca26"
             ],
             [
              1,
              "#f0f921"
             ]
            ],
            "type": "contour"
           }
          ],
          "contourcarpet": [
           {
            "colorbar": {
             "outlinewidth": 0,
             "ticks": ""
            },
            "type": "contourcarpet"
           }
          ],
          "heatmap": [
           {
            "colorbar": {
             "outlinewidth": 0,
             "ticks": ""
            },
            "colorscale": [
             [
              0,
              "#0d0887"
             ],
             [
              0.1111111111111111,
              "#46039f"
             ],
             [
              0.2222222222222222,
              "#7201a8"
             ],
             [
              0.3333333333333333,
              "#9c179e"
             ],
             [
              0.4444444444444444,
              "#bd3786"
             ],
             [
              0.5555555555555556,
              "#d8576b"
             ],
             [
              0.6666666666666666,
              "#ed7953"
             ],
             [
              0.7777777777777778,
              "#fb9f3a"
             ],
             [
              0.8888888888888888,
              "#fdca26"
             ],
             [
              1,
              "#f0f921"
             ]
            ],
            "type": "heatmap"
           }
          ],
          "histogram": [
           {
            "marker": {
             "pattern": {
              "fillmode": "overlay",
              "size": 10,
              "solidity": 0.2
             }
            },
            "type": "histogram"
           }
          ],
          "histogram2d": [
           {
            "colorbar": {
             "outlinewidth": 0,
             "ticks": ""
            },
            "colorscale": [
             [
              0,
              "#0d0887"
             ],
             [
              0.1111111111111111,
              "#46039f"
             ],
             [
              0.2222222222222222,
              "#7201a8"
             ],
             [
              0.3333333333333333,
              "#9c179e"
             ],
             [
              0.4444444444444444,
              "#bd3786"
             ],
             [
              0.5555555555555556,
              "#d8576b"
             ],
             [
              0.6666666666666666,
              "#ed7953"
             ],
             [
              0.7777777777777778,
              "#fb9f3a"
             ],
             [
              0.8888888888888888,
              "#fdca26"
             ],
             [
              1,
              "#f0f921"
             ]
            ],
            "type": "histogram2d"
           }
          ],
          "histogram2dcontour": [
           {
            "colorbar": {
             "outlinewidth": 0,
             "ticks": ""
            },
            "colorscale": [
             [
              0,
              "#0d0887"
             ],
             [
              0.1111111111111111,
              "#46039f"
             ],
             [
              0.2222222222222222,
              "#7201a8"
             ],
             [
              0.3333333333333333,
              "#9c179e"
             ],
             [
              0.4444444444444444,
              "#bd3786"
             ],
             [
              0.5555555555555556,
              "#d8576b"
             ],
             [
              0.6666666666666666,
              "#ed7953"
             ],
             [
              0.7777777777777778,
              "#fb9f3a"
             ],
             [
              0.8888888888888888,
              "#fdca26"
             ],
             [
              1,
              "#f0f921"
             ]
            ],
            "type": "histogram2dcontour"
           }
          ],
          "mesh3d": [
           {
            "colorbar": {
             "outlinewidth": 0,
             "ticks": ""
            },
            "type": "mesh3d"
           }
          ],
          "parcoords": [
           {
            "line": {
             "colorbar": {
              "outlinewidth": 0,
              "ticks": ""
             }
            },
            "type": "parcoords"
           }
          ],
          "pie": [
           {
            "automargin": true,
            "type": "pie"
           }
          ],
          "scatter": [
           {
            "fillpattern": {
             "fillmode": "overlay",
             "size": 10,
             "solidity": 0.2
            },
            "type": "scatter"
           }
          ],
          "scatter3d": [
           {
            "line": {
             "colorbar": {
              "outlinewidth": 0,
              "ticks": ""
             }
            },
            "marker": {
             "colorbar": {
              "outlinewidth": 0,
              "ticks": ""
             }
            },
            "type": "scatter3d"
           }
          ],
          "scattercarpet": [
           {
            "marker": {
             "colorbar": {
              "outlinewidth": 0,
              "ticks": ""
             }
            },
            "type": "scattercarpet"
           }
          ],
          "scattergeo": [
           {
            "marker": {
             "colorbar": {
              "outlinewidth": 0,
              "ticks": ""
             }
            },
            "type": "scattergeo"
           }
          ],
          "scattergl": [
           {
            "marker": {
             "colorbar": {
              "outlinewidth": 0,
              "ticks": ""
             }
            },
            "type": "scattergl"
           }
          ],
          "scattermap": [
           {
            "marker": {
             "colorbar": {
              "outlinewidth": 0,
              "ticks": ""
             }
            },
            "type": "scattermap"
           }
          ],
          "scattermapbox": [
           {
            "marker": {
             "colorbar": {
              "outlinewidth": 0,
              "ticks": ""
             }
            },
            "type": "scattermapbox"
           }
          ],
          "scatterpolar": [
           {
            "marker": {
             "colorbar": {
              "outlinewidth": 0,
              "ticks": ""
             }
            },
            "type": "scatterpolar"
           }
          ],
          "scatterpolargl": [
           {
            "marker": {
             "colorbar": {
              "outlinewidth": 0,
              "ticks": ""
             }
            },
            "type": "scatterpolargl"
           }
          ],
          "scatterternary": [
           {
            "marker": {
             "colorbar": {
              "outlinewidth": 0,
              "ticks": ""
             }
            },
            "type": "scatterternary"
           }
          ],
          "surface": [
           {
            "colorbar": {
             "outlinewidth": 0,
             "ticks": ""
            },
            "colorscale": [
             [
              0,
              "#0d0887"
             ],
             [
              0.1111111111111111,
              "#46039f"
             ],
             [
              0.2222222222222222,
              "#7201a8"
             ],
             [
              0.3333333333333333,
              "#9c179e"
             ],
             [
              0.4444444444444444,
              "#bd3786"
             ],
             [
              0.5555555555555556,
              "#d8576b"
             ],
             [
              0.6666666666666666,
              "#ed7953"
             ],
             [
              0.7777777777777778,
              "#fb9f3a"
             ],
             [
              0.8888888888888888,
              "#fdca26"
             ],
             [
              1,
              "#f0f921"
             ]
            ],
            "type": "surface"
           }
          ],
          "table": [
           {
            "cells": {
             "fill": {
              "color": "#EBF0F8"
             },
             "line": {
              "color": "white"
             }
            },
            "header": {
             "fill": {
              "color": "#C8D4E3"
             },
             "line": {
              "color": "white"
             }
            },
            "type": "table"
           }
          ]
         },
         "layout": {
          "annotationdefaults": {
           "arrowcolor": "#2a3f5f",
           "arrowhead": 0,
           "arrowwidth": 1
          },
          "autotypenumbers": "strict",
          "coloraxis": {
           "colorbar": {
            "outlinewidth": 0,
            "ticks": ""
           }
          },
          "colorscale": {
           "diverging": [
            [
             0,
             "#8e0152"
            ],
            [
             0.1,
             "#c51b7d"
            ],
            [
             0.2,
             "#de77ae"
            ],
            [
             0.3,
             "#f1b6da"
            ],
            [
             0.4,
             "#fde0ef"
            ],
            [
             0.5,
             "#f7f7f7"
            ],
            [
             0.6,
             "#e6f5d0"
            ],
            [
             0.7,
             "#b8e186"
            ],
            [
             0.8,
             "#7fbc41"
            ],
            [
             0.9,
             "#4d9221"
            ],
            [
             1,
             "#276419"
            ]
           ],
           "sequential": [
            [
             0,
             "#0d0887"
            ],
            [
             0.1111111111111111,
             "#46039f"
            ],
            [
             0.2222222222222222,
             "#7201a8"
            ],
            [
             0.3333333333333333,
             "#9c179e"
            ],
            [
             0.4444444444444444,
             "#bd3786"
            ],
            [
             0.5555555555555556,
             "#d8576b"
            ],
            [
             0.6666666666666666,
             "#ed7953"
            ],
            [
             0.7777777777777778,
             "#fb9f3a"
            ],
            [
             0.8888888888888888,
             "#fdca26"
            ],
            [
             1,
             "#f0f921"
            ]
           ],
           "sequentialminus": [
            [
             0,
             "#0d0887"
            ],
            [
             0.1111111111111111,
             "#46039f"
            ],
            [
             0.2222222222222222,
             "#7201a8"
            ],
            [
             0.3333333333333333,
             "#9c179e"
            ],
            [
             0.4444444444444444,
             "#bd3786"
            ],
            [
             0.5555555555555556,
             "#d8576b"
            ],
            [
             0.6666666666666666,
             "#ed7953"
            ],
            [
             0.7777777777777778,
             "#fb9f3a"
            ],
            [
             0.8888888888888888,
             "#fdca26"
            ],
            [
             1,
             "#f0f921"
            ]
           ]
          },
          "colorway": [
           "#636efa",
           "#EF553B",
           "#00cc96",
           "#ab63fa",
           "#FFA15A",
           "#19d3f3",
           "#FF6692",
           "#B6E880",
           "#FF97FF",
           "#FECB52"
          ],
          "font": {
           "color": "#2a3f5f"
          },
          "geo": {
           "bgcolor": "white",
           "lakecolor": "white",
           "landcolor": "#E5ECF6",
           "showlakes": true,
           "showland": true,
           "subunitcolor": "white"
          },
          "hoverlabel": {
           "align": "left"
          },
          "hovermode": "closest",
          "mapbox": {
           "style": "light"
          },
          "paper_bgcolor": "white",
          "plot_bgcolor": "#E5ECF6",
          "polar": {
           "angularaxis": {
            "gridcolor": "white",
            "linecolor": "white",
            "ticks": ""
           },
           "bgcolor": "#E5ECF6",
           "radialaxis": {
            "gridcolor": "white",
            "linecolor": "white",
            "ticks": ""
           }
          },
          "scene": {
           "xaxis": {
            "backgroundcolor": "#E5ECF6",
            "gridcolor": "white",
            "gridwidth": 2,
            "linecolor": "white",
            "showbackground": true,
            "ticks": "",
            "zerolinecolor": "white"
           },
           "yaxis": {
            "backgroundcolor": "#E5ECF6",
            "gridcolor": "white",
            "gridwidth": 2,
            "linecolor": "white",
            "showbackground": true,
            "ticks": "",
            "zerolinecolor": "white"
           },
           "zaxis": {
            "backgroundcolor": "#E5ECF6",
            "gridcolor": "white",
            "gridwidth": 2,
            "linecolor": "white",
            "showbackground": true,
            "ticks": "",
            "zerolinecolor": "white"
           }
          },
          "shapedefaults": {
           "line": {
            "color": "#2a3f5f"
           }
          },
          "ternary": {
           "aaxis": {
            "gridcolor": "white",
            "linecolor": "white",
            "ticks": ""
           },
           "baxis": {
            "gridcolor": "white",
            "linecolor": "white",
            "ticks": ""
           },
           "bgcolor": "#E5ECF6",
           "caxis": {
            "gridcolor": "white",
            "linecolor": "white",
            "ticks": ""
           }
          },
          "title": {
           "x": 0.05
          },
          "xaxis": {
           "automargin": true,
           "gridcolor": "white",
           "linecolor": "white",
           "ticks": "",
           "title": {
            "standoff": 15
           },
           "zerolinecolor": "white",
           "zerolinewidth": 2
          },
          "yaxis": {
           "automargin": true,
           "gridcolor": "white",
           "linecolor": "white",
           "ticks": "",
           "title": {
            "standoff": 15
           },
           "zerolinecolor": "white",
           "zerolinewidth": 2
          }
         }
        },
        "width": 500
       }
      }
     },
     "metadata": {},
     "output_type": "display_data"
    }
   ],
   "source": [
    "plot('../eta-pi-data/eta-pi0-update.h5', '../eta-pi-data/merged_NCPi0_update.h5', '0 NCPi0', 11)"
   ]
  },
  {
   "cell_type": "code",
   "execution_count": null,
   "id": "145cc253",
   "metadata": {},
   "outputs": [],
   "source": []
  }
 ],
 "metadata": {
  "kernelspec": {
   "display_name": "ML",
   "language": "python",
   "name": "python3"
  },
  "language_info": {
   "codemirror_mode": {
    "name": "ipython",
    "version": 3
   },
   "file_extension": ".py",
   "mimetype": "text/x-python",
   "name": "python",
   "nbconvert_exporter": "python",
   "pygments_lexer": "ipython3",
   "version": "3.11.13"
  }
 },
 "nbformat": 4,
 "nbformat_minor": 5
}
